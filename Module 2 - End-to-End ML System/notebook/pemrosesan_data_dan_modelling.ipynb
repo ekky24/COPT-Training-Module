{
 "cells": [
  {
   "cell_type": "markdown",
   "metadata": {},
   "source": [
    "# Persiapan Awal"
   ]
  },
  {
   "cell_type": "code",
   "execution_count": 1,
   "metadata": {},
   "outputs": [],
   "source": [
    "import pandas as pd\n",
    "import numpy as np\n",
    "\n",
    "import matplotlib.pyplot as plt\n",
    "import seaborn as sns\n",
    "import plotly.express as px\n",
    "\n",
    "from sklearn.model_selection import train_test_split\n",
    "from sklearn.pipeline import Pipeline\n",
    "from sklearn.compose import ColumnTransformer\n",
    "from sklearn.preprocessing import FunctionTransformer, StandardScaler, LabelEncoder\n",
    "\n",
    "from sklearn.tree import DecisionTreeClassifier\n",
    "from sklearn.svm import SVC\n",
    "import tensorflow as tf\n",
    "from tensorflow.keras import layers\n",
    "from tensorflow.keras import backend as k\n",
    "\n",
    "from sklearn.metrics import accuracy_score, confusion_matrix\n",
    "\n",
    "import pickle, sys, os\n",
    "from typing import Any, List\n",
    "import warnings\n",
    "warnings.filterwarnings(\"ignore\")\n",
    "\n",
    "config_path = os.path.abspath(os.path.join('..'))\n",
    "if config_path not in sys.path:\n",
    "    sys.path.append(config_path+\"\\\\src\")\n",
    "from config import * \n",
    "from util import *\n",
    "\n",
    "np.random.seed(SEED)"
   ]
  },
  {
   "cell_type": "markdown",
   "metadata": {},
   "source": [
    "# Mempersiapkan Data"
   ]
  },
  {
   "cell_type": "code",
   "execution_count": 2,
   "metadata": {},
   "outputs": [
    {
     "data": {
      "text/html": [
       "<div>\n",
       "<style scoped>\n",
       "    .dataframe tbody tr th:only-of-type {\n",
       "        vertical-align: middle;\n",
       "    }\n",
       "\n",
       "    .dataframe tbody tr th {\n",
       "        vertical-align: top;\n",
       "    }\n",
       "\n",
       "    .dataframe thead th {\n",
       "        text-align: right;\n",
       "    }\n",
       "</style>\n",
       "<table border=\"1\" class=\"dataframe\">\n",
       "  <thead>\n",
       "    <tr style=\"text-align: right;\">\n",
       "      <th></th>\n",
       "      <th>sepal_length</th>\n",
       "      <th>sepal_width</th>\n",
       "      <th>petal_length</th>\n",
       "      <th>petal_width</th>\n",
       "      <th>class</th>\n",
       "    </tr>\n",
       "  </thead>\n",
       "  <tbody>\n",
       "    <tr>\n",
       "      <th>116</th>\n",
       "      <td>6.5</td>\n",
       "      <td>3.0</td>\n",
       "      <td>5.5</td>\n",
       "      <td>1.8</td>\n",
       "      <td>Iris-virginica</td>\n",
       "    </tr>\n",
       "    <tr>\n",
       "      <th>33</th>\n",
       "      <td>5.5</td>\n",
       "      <td>4.2</td>\n",
       "      <td>1.4</td>\n",
       "      <td>0.2</td>\n",
       "      <td>Iris-setosa</td>\n",
       "    </tr>\n",
       "    <tr>\n",
       "      <th>71</th>\n",
       "      <td>6.1</td>\n",
       "      <td>2.8</td>\n",
       "      <td>4.0</td>\n",
       "      <td>1.3</td>\n",
       "      <td>Iris-versicolor</td>\n",
       "    </tr>\n",
       "    <tr>\n",
       "      <th>118</th>\n",
       "      <td>7.7</td>\n",
       "      <td>2.6</td>\n",
       "      <td>6.9</td>\n",
       "      <td>2.3</td>\n",
       "      <td>Iris-virginica</td>\n",
       "    </tr>\n",
       "    <tr>\n",
       "      <th>34</th>\n",
       "      <td>4.9</td>\n",
       "      <td>3.1</td>\n",
       "      <td>1.5</td>\n",
       "      <td>0.1</td>\n",
       "      <td>Iris-setosa</td>\n",
       "    </tr>\n",
       "  </tbody>\n",
       "</table>\n",
       "</div>"
      ],
      "text/plain": [
       "     sepal_length  sepal_width  petal_length  petal_width            class\n",
       "116           6.5          3.0           5.5          1.8   Iris-virginica\n",
       "33            5.5          4.2           1.4          0.2      Iris-setosa\n",
       "71            6.1          2.8           4.0          1.3  Iris-versicolor\n",
       "118           7.7          2.6           6.9          2.3   Iris-virginica\n",
       "34            4.9          3.1           1.5          0.1      Iris-setosa"
      ]
     },
     "execution_count": 2,
     "metadata": {},
     "output_type": "execute_result"
    }
   ],
   "source": [
    "# me-load data\n",
    "data = # YOUR CODE HERE\n",
    "\n",
    "# melihat 5 sample data \n",
    "data.sample(5) "
   ]
  },
  {
   "cell_type": "markdown",
   "metadata": {},
   "source": [
    "## Mengecek Data"
   ]
  },
  {
   "cell_type": "code",
   "execution_count": 4,
   "metadata": {},
   "outputs": [
    {
     "name": "stdout",
     "output_type": "stream",
     "text": [
      "<class 'pandas.core.frame.DataFrame'>\n",
      "RangeIndex: 150 entries, 0 to 149\n",
      "Data columns (total 5 columns):\n",
      " #   Column        Non-Null Count  Dtype  \n",
      "---  ------        --------------  -----  \n",
      " 0   sepal_length  150 non-null    float64\n",
      " 1   sepal_width   150 non-null    float64\n",
      " 2   petal_length  150 non-null    float64\n",
      " 3   petal_width   150 non-null    float64\n",
      " 4   class         150 non-null    object \n",
      "dtypes: float64(4), object(1)\n",
      "memory usage: 6.0+ KB\n"
     ]
    }
   ],
   "source": [
    "# cek info data\n",
    "# YOUR CODE HERE "
   ]
  },
  {
   "cell_type": "code",
   "execution_count": 5,
   "metadata": {},
   "outputs": [
    {
     "data": {
      "text/html": [
       "<div>\n",
       "<style scoped>\n",
       "    .dataframe tbody tr th:only-of-type {\n",
       "        vertical-align: middle;\n",
       "    }\n",
       "\n",
       "    .dataframe tbody tr th {\n",
       "        vertical-align: top;\n",
       "    }\n",
       "\n",
       "    .dataframe thead th {\n",
       "        text-align: right;\n",
       "    }\n",
       "</style>\n",
       "<table border=\"1\" class=\"dataframe\">\n",
       "  <thead>\n",
       "    <tr style=\"text-align: right;\">\n",
       "      <th></th>\n",
       "      <th>sepal_length</th>\n",
       "      <th>sepal_width</th>\n",
       "      <th>petal_length</th>\n",
       "      <th>petal_width</th>\n",
       "    </tr>\n",
       "  </thead>\n",
       "  <tbody>\n",
       "    <tr>\n",
       "      <th>count</th>\n",
       "      <td>150.000000</td>\n",
       "      <td>150.000000</td>\n",
       "      <td>150.000000</td>\n",
       "      <td>150.000000</td>\n",
       "    </tr>\n",
       "    <tr>\n",
       "      <th>mean</th>\n",
       "      <td>5.843333</td>\n",
       "      <td>3.054000</td>\n",
       "      <td>3.758667</td>\n",
       "      <td>1.198667</td>\n",
       "    </tr>\n",
       "    <tr>\n",
       "      <th>std</th>\n",
       "      <td>0.828066</td>\n",
       "      <td>0.433594</td>\n",
       "      <td>1.764420</td>\n",
       "      <td>0.763161</td>\n",
       "    </tr>\n",
       "    <tr>\n",
       "      <th>min</th>\n",
       "      <td>4.300000</td>\n",
       "      <td>2.000000</td>\n",
       "      <td>1.000000</td>\n",
       "      <td>0.100000</td>\n",
       "    </tr>\n",
       "    <tr>\n",
       "      <th>25%</th>\n",
       "      <td>5.100000</td>\n",
       "      <td>2.800000</td>\n",
       "      <td>1.600000</td>\n",
       "      <td>0.300000</td>\n",
       "    </tr>\n",
       "    <tr>\n",
       "      <th>50%</th>\n",
       "      <td>5.800000</td>\n",
       "      <td>3.000000</td>\n",
       "      <td>4.350000</td>\n",
       "      <td>1.300000</td>\n",
       "    </tr>\n",
       "    <tr>\n",
       "      <th>75%</th>\n",
       "      <td>6.400000</td>\n",
       "      <td>3.300000</td>\n",
       "      <td>5.100000</td>\n",
       "      <td>1.800000</td>\n",
       "    </tr>\n",
       "    <tr>\n",
       "      <th>max</th>\n",
       "      <td>7.900000</td>\n",
       "      <td>4.400000</td>\n",
       "      <td>6.900000</td>\n",
       "      <td>2.500000</td>\n",
       "    </tr>\n",
       "  </tbody>\n",
       "</table>\n",
       "</div>"
      ],
      "text/plain": [
       "       sepal_length  sepal_width  petal_length  petal_width\n",
       "count    150.000000   150.000000    150.000000   150.000000\n",
       "mean       5.843333     3.054000      3.758667     1.198667\n",
       "std        0.828066     0.433594      1.764420     0.763161\n",
       "min        4.300000     2.000000      1.000000     0.100000\n",
       "25%        5.100000     2.800000      1.600000     0.300000\n",
       "50%        5.800000     3.000000      4.350000     1.300000\n",
       "75%        6.400000     3.300000      5.100000     1.800000\n",
       "max        7.900000     4.400000      6.900000     2.500000"
      ]
     },
     "execution_count": 5,
     "metadata": {},
     "output_type": "execute_result"
    }
   ],
   "source": [
    "# cek statistik\n",
    "# YOUR CODE HERE"
   ]
  },
  {
   "cell_type": "code",
   "execution_count": 6,
   "metadata": {},
   "outputs": [
    {
     "data": {
      "text/plain": [
       "array([[<AxesSubplot:title={'center':'sepal_length'}>,\n",
       "        <AxesSubplot:title={'center':'sepal_width'}>],\n",
       "       [<AxesSubplot:title={'center':'petal_length'}>,\n",
       "        <AxesSubplot:title={'center':'petal_width'}>]], dtype=object)"
      ]
     },
     "execution_count": 6,
     "metadata": {},
     "output_type": "execute_result"
    },
    {
     "data": {
      "image/png": "[encoded data removed]",
      "text/plain": [
       "<Figure size 1200x500 with 4 Axes>"
      ]
     },
     "metadata": {},
     "output_type": "display_data"
    }
   ],
   "source": [
    "# membuat plot histogram\n",
    "# YOUR CODE HERE "
   ]
  },
  {
   "cell_type": "code",
   "execution_count": 7,
   "metadata": {},
   "outputs": [
    {
     "data": {
      "text/plain": [
       "array([<AxesSubplot:ylabel='Density'>, <AxesSubplot:ylabel='Density'>,\n",
       "       <AxesSubplot:ylabel='Density'>, <AxesSubplot:ylabel='Density'>],\n",
       "      dtype=object)"
      ]
     },
     "execution_count": 7,
     "metadata": {},
     "output_type": "execute_result"
    },
    {
     "data": {
      "image/png": "[encoded data removed]",
      "text/plain": [
       "<Figure size 800x500 with 4 Axes>"
      ]
     },
     "metadata": {},
     "output_type": "display_data"
    }
   ],
   "source": [
    "data.plot.kde(figsize=(8,5), subplots=True)"
   ]
  },
  {
   "cell_type": "code",
   "execution_count": 8,
   "metadata": {},
   "outputs": [
    {
     "data": {
      "text/plain": [
       "<seaborn.axisgrid.PairGrid at 0x20f7c55af10>"
      ]
     },
     "execution_count": 8,
     "metadata": {},
     "output_type": "execute_result"
    },
    {
     "data": {
      "image/png": "[encoded data removed]",
      "text/plain": [
       "<Figure size 1143x1000 with 20 Axes>"
      ]
     },
     "metadata": {},
     "output_type": "display_data"
    }
   ],
   "source": [
    "# cek data dari visualisasi\n",
    "# YOUR CODE HERE "
   ]
  },
  {
   "cell_type": "markdown",
   "metadata": {},
   "source": [
    "# Pembagian Data"
   ]
  },
  {
   "cell_type": "code",
   "execution_count": 9,
   "metadata": {},
   "outputs": [],
   "source": [
    "# Menentukan fitur dan target\n",
    "X = data[data.columns[:-1]] # fitur \n",
    "y = data[data.columns[-1]] # target\n",
    "\n",
    "# encoding class\n",
    "le = LabelEncoder()\n",
    "le.fit(y)\n",
    "y = le.transform(y)\n",
    "\n",
    "# Membagi data\n",
    "X_train, X_test, y_train, y_test = # YOUR CODE HERE "
   ]
  },
  {
   "cell_type": "markdown",
   "metadata": {},
   "source": [
    "# Pembuatan Model  \n",
    "\n",
    "> Skema 1  \n",
    "![Skema 1](..\\img\\skema1.jpg)\n",
    "\n",
    "> Skema 2  \n",
    "![Skema 2](..\\img\\skema2.jpg)"
   ]
  },
  {
   "cell_type": "markdown",
   "metadata": {},
   "source": [
    "## Skema 1 (Model _Decision Tree_)"
   ]
  },
  {
   "cell_type": "code",
   "execution_count": 10,
   "metadata": {},
   "outputs": [],
   "source": [
    "# list fitur\n",
    "fitur_numerik = list(X_train.columns)\n",
    "\n",
    "# pipeline untuk ekstraksi fitur\n",
    "ekstraksi_fitur = ColumnTransformer([\n",
    "    (\"sepal\", FunctionTransformer(ekstrak_sepal,validate=False), [\"sepal_length\", \"sepal_width\"]),\n",
    "    (\"petal\", FunctionTransformer(ekstrak_petal,validate=False), [\"petal_length\", \"petal_width\"]),\n",
    "])\n",
    "\n",
    "numerik_transformer = Pipeline(\n",
    "    steps=[(\"scaler\", StandardScaler())]\n",
    ")\n",
    "\n",
    "data_pipeline = Pipeline([\n",
    "  ('ekstraksi_fitur', ekstraksi_fitur),\n",
    "  ('scaler', numerik_transformer)\n",
    "])"
   ]
  },
  {
   "cell_type": "code",
   "execution_count": 11,
   "metadata": {},
   "outputs": [],
   "source": [
    "# menyambungkan data pipeline ke classifier\n",
    "dt_clf = Pipeline(\n",
    "    steps=[(\"data_pipeline\", data_pipeline),\n",
    "           (\"classifier\", DecisionTreeClassifier())\n",
    "          ]\n",
    ")\n",
    "\n",
    "# train model\n",
    "dt_clf.( # YOUR CODE HERE\n",
    "\n",
    "# prediksi untuk evaluasi\n",
    "y_dt = # YOUR CODE HERE "
   ]
  },
  {
   "cell_type": "markdown",
   "metadata": {},
   "source": [
    "## Skema 1 (Model _SVM_)"
   ]
  },
  {
   "cell_type": "code",
   "execution_count": 12,
   "metadata": {},
   "outputs": [],
   "source": [
    "# pipeline ke classifier\n",
    "svm_clf = Pipeline(\n",
    "    steps=[(\"data_pipeline\", data_pipeline),\n",
    "           (\"classifier\", SVC())\n",
    "          ]\n",
    ")\n",
    "\n",
    "# train model\n",
    "svm_clf.( # YOUR CODE HERE\n",
    "\n",
    "# prediksi untuk evaluasi\n",
    "y_svm = # YOUR CODE HERE"
   ]
  },
  {
   "cell_type": "markdown",
   "metadata": {},
   "source": [
    "## Skema 2 (Model _Neural Network_)"
   ]
  },
  {
   "cell_type": "code",
   "execution_count": 13,
   "metadata": {},
   "outputs": [],
   "source": [
    "# Settings\n",
    "max_tokens = 5\n",
    "epochs = 500\n",
    "batch_size = 10\n",
    "\n",
    "train = X_train.copy()\n",
    "train[\"label\"] = y_train\n",
    "test = X_test.copy()\n",
    "test[\"label\"] = y_test\n",
    "\n",
    "train_ds = df_to_dataset(train, batch_size=batch_size)\n",
    "test_ds = df_to_dataset(test, shuffle=False, batch_size=batch_size)\n",
    "\n",
    "all_inputs = []\n",
    "encoded_features = []\n",
    "input_specs = []\n",
    "\n",
    "for header in fitur_numerik:\n",
    "  numeric_col = tf.keras.Input(shape=(1,), name=header)\n",
    "  normalization_layer = get_normalization_layer(header, train_ds)\n",
    "  encoded_numeric_col = normalization_layer(numeric_col)\n",
    "  all_inputs.append(numeric_col)\n",
    "  encoded_features.append(encoded_numeric_col)\n",
    "  input_spec = tf.TensorSpec(shape=(None, 1), dtype=tf.float32, name=f'input_{header}')\n",
    "  input_specs.append(input_spec)"
   ]
  },
  {
   "cell_type": "code",
   "execution_count": 14,
   "metadata": {},
   "outputs": [
    {
     "name": "stdout",
     "output_type": "stream",
     "text": [
      "Model: \"model\"\n",
      "__________________________________________________________________________________________________\n",
      " Layer (type)                Output Shape                 Param #   Connected to                  \n",
      "==================================================================================================\n",
      " sepal_length (InputLayer)   [(None, 1)]                  0         []                            \n",
      "                                                                                                  \n",
      " sepal_width (InputLayer)    [(None, 1)]                  0         []                            \n",
      "                                                                                                  \n",
      " petal_length (InputLayer)   [(None, 1)]                  0         []                            \n",
      "                                                                                                  \n",
      " petal_width (InputLayer)    [(None, 1)]                  0         []                            \n",
      "                                                                                                  \n",
      " normalization (Normalizati  (None, 1)                    3         ['sepal_length[0][0]']        \n",
      " on)                                                                                              \n",
      "                                                                                                  \n",
      " normalization_1 (Normaliza  (None, 1)                    3         ['sepal_width[0][0]']         \n",
      " tion)                                                                                            \n",
      "                                                                                                  \n",
      " normalization_2 (Normaliza  (None, 1)                    3         ['petal_length[0][0]']        \n",
      " tion)                                                                                            \n",
      "                                                                                                  \n",
      " normalization_3 (Normaliza  (None, 1)                    3         ['petal_width[0][0]']         \n",
      " tion)                                                                                            \n",
      "                                                                                                  \n",
      " concatenate (Concatenate)   (None, 4)                    0         ['normalization[0][0]',       \n",
      "                                                                     'normalization_1[0][0]',     \n",
      "                                                                     'normalization_2[0][0]',     \n",
      "                                                                     'normalization_3[0][0]']     \n",
      "                                                                                                  \n",
      " dense (Dense)               (None, 2)                    10        ['concatenate[0][0]']         \n",
      "                                                                                                  \n",
      " dense_1 (Dense)             (None, 3)                    9         ['dense[0][0]']               \n",
      "                                                                                                  \n",
      "==================================================================================================\n",
      "Total params: 31 (140.00 Byte)\n",
      "Trainable params: 19 (76.00 Byte)\n",
      "Non-trainable params: 12 (64.00 Byte)\n",
      "__________________________________________________________________________________________________\n"
     ]
    }
   ],
   "source": [
    "all_features = tf.keras.layers.concatenate(encoded_features)\n",
    "x = tf.keras.layers.Dense(2, activation=\"relu\")(all_features)\n",
    "output = tf.keras.layers.Dense(3, activation=\"softmax\")(x)\n",
    "\n",
    "k.clear_session()\n",
    "tf.random.set_seed(SEED)\n",
    "nn_clf = tf.keras.Model(all_inputs, output)\n",
    "nn_clf.summary()"
   ]
  },
  {
   "cell_type": "code",
   "execution_count": 15,
   "metadata": {},
   "outputs": [
    {
     "name": "stdout",
     "output_type": "stream",
     "text": [
      "Epoch 1/500\n"
     ]
    },
    {
     "name": "stdout",
     "output_type": "stream",
     "text": [
      "12/12 [==============================] - 1s 3ms/step - loss: 1.0564 - accuracy: 0.5000\n",
      "Epoch 2/500\n",
      "12/12 [==============================] - 0s 2ms/step - loss: 1.0414 - accuracy: 0.5000\n",
      "Epoch 3/500\n",
      "12/12 [==============================] - 0s 2ms/step - loss: 1.0269 - accuracy: 0.5083\n",
      "Epoch 4/500\n",
      "12/12 [==============================] - 0s 4ms/step - loss: 1.0126 - accuracy: 0.5167\n",
      "Epoch 5/500\n",
      "12/12 [==============================] - 0s 4ms/step - loss: 0.9985 - accuracy: 0.5333\n",
      "Epoch 6/500\n",
      "12/12 [==============================] - 0s 6ms/step - loss: 0.9850 - accuracy: 0.5417\n",
      "Epoch 7/500\n",
      "12/12 [==============================] - 0s 4ms/step - loss: 0.9702 - accuracy: 0.5417\n",
      "Epoch 8/500\n",
      "12/12 [==============================] - 0s 2ms/step - loss: 0.9574 - accuracy: 0.5417\n",
      "Epoch 9/500\n",
      "12/12 [==============================] - 0s 4ms/step - loss: 0.9447 - accuracy: 0.5750\n",
      "Epoch 10/500\n",
      "12/12 [==============================] - 0s 4ms/step - loss: 0.9315 - accuracy: 0.5833\n",
      "Epoch 11/500\n",
      "12/12 [==============================] - 0s 4ms/step - loss: 0.9193 - accuracy: 0.6000\n",
      "Epoch 12/500\n",
      "12/12 [==============================] - 0s 4ms/step - loss: 0.9073 - accuracy: 0.6250\n",
      "Epoch 13/500\n",
      "12/12 [==============================] - 0s 4ms/step - loss: 0.8951 - accuracy: 0.6333\n",
      "Epoch 14/500\n",
      "12/12 [==============================] - 0s 3ms/step - loss: 0.8839 - accuracy: 0.6333\n",
      "Epoch 15/500\n",
      "12/12 [==============================] - 0s 4ms/step - loss: 0.8729 - accuracy: 0.6250\n",
      "Epoch 16/500\n",
      "12/12 [==============================] - 0s 3ms/step - loss: 0.8614 - accuracy: 0.6250\n",
      "Epoch 17/500\n",
      "12/12 [==============================] - 0s 3ms/step - loss: 0.8515 - accuracy: 0.6250\n",
      "Epoch 18/500\n",
      "12/12 [==============================] - 0s 6ms/step - loss: 0.8410 - accuracy: 0.6333\n",
      "Epoch 19/500\n",
      "12/12 [==============================] - 0s 3ms/step - loss: 0.8317 - accuracy: 0.6417\n",
      "Epoch 20/500\n",
      "12/12 [==============================] - 0s 2ms/step - loss: 0.8212 - accuracy: 0.6417\n",
      "Epoch 21/500\n",
      "12/12 [==============================] - 0s 4ms/step - loss: 0.8124 - accuracy: 0.6500\n",
      "Epoch 22/500\n",
      "12/12 [==============================] - 0s 4ms/step - loss: 0.8032 - accuracy: 0.6500\n",
      "Epoch 23/500\n",
      "12/12 [==============================] - 0s 4ms/step - loss: 0.7947 - accuracy: 0.6583\n",
      "Epoch 24/500\n",
      "12/12 [==============================] - 0s 2ms/step - loss: 0.7861 - accuracy: 0.6583\n",
      "Epoch 25/500\n",
      "12/12 [==============================] - 0s 5ms/step - loss: 0.7778 - accuracy: 0.6833\n",
      "Epoch 26/500\n",
      "12/12 [==============================] - 0s 5ms/step - loss: 0.7700 - accuracy: 0.6833\n",
      "Epoch 27/500\n",
      "12/12 [==============================] - 0s 3ms/step - loss: 0.7621 - accuracy: 0.6833\n",
      "Epoch 28/500\n",
      "12/12 [==============================] - 0s 4ms/step - loss: 0.7548 - accuracy: 0.6917\n",
      "Epoch 29/500\n",
      "12/12 [==============================] - 0s 2ms/step - loss: 0.7478 - accuracy: 0.6917\n",
      "Epoch 30/500\n",
      "12/12 [==============================] - 0s 3ms/step - loss: 0.7405 - accuracy: 0.7000\n",
      "Epoch 31/500\n",
      "12/12 [==============================] - 0s 3ms/step - loss: 0.7340 - accuracy: 0.7000\n",
      "Epoch 32/500\n",
      "12/12 [==============================] - 0s 3ms/step - loss: 0.7272 - accuracy: 0.7000\n",
      "Epoch 33/500\n",
      "12/12 [==============================] - 0s 4ms/step - loss: 0.7209 - accuracy: 0.7000\n",
      "Epoch 34/500\n",
      "12/12 [==============================] - 0s 4ms/step - loss: 0.7147 - accuracy: 0.7000\n",
      "Epoch 35/500\n",
      "12/12 [==============================] - 0s 3ms/step - loss: 0.7089 - accuracy: 0.7000\n",
      "Epoch 36/500\n",
      "12/12 [==============================] - 0s 4ms/step - loss: 0.7031 - accuracy: 0.7000\n",
      "Epoch 37/500\n",
      "12/12 [==============================] - 0s 4ms/step - loss: 0.6973 - accuracy: 0.7083\n",
      "Epoch 38/500\n",
      "12/12 [==============================] - 0s 3ms/step - loss: 0.6919 - accuracy: 0.7083\n",
      "Epoch 39/500\n",
      "12/12 [==============================] - 0s 4ms/step - loss: 0.6866 - accuracy: 0.7083\n",
      "Epoch 40/500\n",
      "12/12 [==============================] - 0s 3ms/step - loss: 0.6813 - accuracy: 0.7167\n",
      "Epoch 41/500\n",
      "12/12 [==============================] - 0s 3ms/step - loss: 0.6765 - accuracy: 0.7167\n",
      "Epoch 42/500\n",
      "12/12 [==============================] - 0s 3ms/step - loss: 0.6716 - accuracy: 0.7167\n",
      "Epoch 43/500\n",
      "12/12 [==============================] - 0s 3ms/step - loss: 0.6668 - accuracy: 0.7167\n",
      "Epoch 44/500\n",
      "12/12 [==============================] - 0s 4ms/step - loss: 0.6623 - accuracy: 0.7167\n",
      "Epoch 45/500\n",
      "12/12 [==============================] - 0s 4ms/step - loss: 0.6576 - accuracy: 0.7250\n",
      "Epoch 46/500\n",
      "12/12 [==============================] - 0s 5ms/step - loss: 0.6532 - accuracy: 0.7250\n",
      "Epoch 47/500\n",
      "12/12 [==============================] - 0s 4ms/step - loss: 0.6486 - accuracy: 0.7250\n",
      "Epoch 48/500\n",
      "12/12 [==============================] - 0s 2ms/step - loss: 0.6441 - accuracy: 0.7250\n",
      "Epoch 49/500\n",
      "12/12 [==============================] - 0s 2ms/step - loss: 0.6395 - accuracy: 0.7250\n",
      "Epoch 50/500\n",
      "12/12 [==============================] - 0s 2ms/step - loss: 0.6349 - accuracy: 0.7250\n",
      "Epoch 51/500\n",
      "12/12 [==============================] - 0s 3ms/step - loss: 0.6303 - accuracy: 0.7250\n",
      "Epoch 52/500\n",
      "12/12 [==============================] - 0s 2ms/step - loss: 0.6255 - accuracy: 0.7250\n",
      "Epoch 53/500\n",
      "12/12 [==============================] - 0s 4ms/step - loss: 0.6208 - accuracy: 0.7250\n",
      "Epoch 54/500\n",
      "12/12 [==============================] - 0s 3ms/step - loss: 0.6161 - accuracy: 0.7333\n",
      "Epoch 55/500\n",
      "12/12 [==============================] - 0s 4ms/step - loss: 0.6114 - accuracy: 0.7250\n",
      "Epoch 56/500\n",
      "12/12 [==============================] - 0s 5ms/step - loss: 0.6067 - accuracy: 0.7250\n",
      "Epoch 57/500\n",
      "12/12 [==============================] - 0s 5ms/step - loss: 0.6024 - accuracy: 0.7333\n",
      "Epoch 58/500\n",
      "12/12 [==============================] - 0s 4ms/step - loss: 0.5977 - accuracy: 0.7333\n",
      "Epoch 59/500\n",
      "12/12 [==============================] - 0s 2ms/step - loss: 0.5934 - accuracy: 0.7333\n",
      "Epoch 60/500\n",
      "12/12 [==============================] - 0s 5ms/step - loss: 0.5884 - accuracy: 0.7250\n",
      "Epoch 61/500\n",
      "12/12 [==============================] - 0s 3ms/step - loss: 0.5839 - accuracy: 0.7250\n",
      "Epoch 62/500\n",
      "12/12 [==============================] - 0s 3ms/step - loss: 0.5791 - accuracy: 0.7333\n",
      "Epoch 63/500\n",
      "12/12 [==============================] - 0s 4ms/step - loss: 0.5749 - accuracy: 0.7417\n",
      "Epoch 64/500\n",
      "12/12 [==============================] - 0s 3ms/step - loss: 0.5702 - accuracy: 0.7417\n",
      "Epoch 65/500\n",
      "12/12 [==============================] - 0s 2ms/step - loss: 0.5661 - accuracy: 0.7500\n",
      "Epoch 66/500\n",
      "12/12 [==============================] - 0s 4ms/step - loss: 0.5624 - accuracy: 0.7500\n",
      "Epoch 67/500\n",
      "12/12 [==============================] - 0s 5ms/step - loss: 0.5580 - accuracy: 0.7500\n",
      "Epoch 68/500\n",
      "12/12 [==============================] - 0s 2ms/step - loss: 0.5542 - accuracy: 0.7500\n",
      "Epoch 69/500\n",
      "12/12 [==============================] - 0s 2ms/step - loss: 0.5507 - accuracy: 0.7500\n",
      "Epoch 70/500\n",
      "12/12 [==============================] - 0s 4ms/step - loss: 0.5468 - accuracy: 0.7667\n",
      "Epoch 71/500\n",
      "12/12 [==============================] - 0s 5ms/step - loss: 0.5432 - accuracy: 0.7750\n",
      "Epoch 72/500\n",
      "12/12 [==============================] - 0s 6ms/step - loss: 0.5397 - accuracy: 0.7917\n",
      "Epoch 73/500\n",
      "12/12 [==============================] - 0s 4ms/step - loss: 0.5364 - accuracy: 0.8083\n",
      "Epoch 74/500\n",
      "12/12 [==============================] - 0s 4ms/step - loss: 0.5331 - accuracy: 0.8167\n",
      "Epoch 75/500\n",
      "12/12 [==============================] - 0s 3ms/step - loss: 0.5296 - accuracy: 0.8167\n",
      "Epoch 76/500\n",
      "12/12 [==============================] - 0s 4ms/step - loss: 0.5266 - accuracy: 0.8167\n",
      "Epoch 77/500\n",
      "12/12 [==============================] - 0s 4ms/step - loss: 0.5234 - accuracy: 0.8167\n",
      "Epoch 78/500\n",
      "12/12 [==============================] - 0s 3ms/step - loss: 0.5202 - accuracy: 0.8167\n",
      "Epoch 79/500\n",
      "12/12 [==============================] - 0s 2ms/step - loss: 0.5172 - accuracy: 0.8167\n",
      "Epoch 80/500\n",
      "12/12 [==============================] - 0s 4ms/step - loss: 0.5141 - accuracy: 0.8167\n",
      "Epoch 81/500\n",
      "12/12 [==============================] - 0s 3ms/step - loss: 0.5110 - accuracy: 0.8167\n",
      "Epoch 82/500\n",
      "12/12 [==============================] - 0s 2ms/step - loss: 0.5083 - accuracy: 0.8167\n",
      "Epoch 83/500\n",
      "12/12 [==============================] - 0s 2ms/step - loss: 0.5055 - accuracy: 0.8167\n",
      "Epoch 84/500\n",
      "12/12 [==============================] - 0s 2ms/step - loss: 0.5026 - accuracy: 0.8167\n",
      "Epoch 85/500\n",
      "12/12 [==============================] - 0s 3ms/step - loss: 0.4999 - accuracy: 0.8167\n",
      "Epoch 86/500\n",
      "12/12 [==============================] - 0s 4ms/step - loss: 0.4971 - accuracy: 0.8333\n",
      "Epoch 87/500\n",
      "12/12 [==============================] - 0s 3ms/step - loss: 0.4944 - accuracy: 0.8333\n",
      "Epoch 88/500\n",
      "12/12 [==============================] - 0s 4ms/step - loss: 0.4921 - accuracy: 0.8333\n",
      "Epoch 89/500\n",
      "12/12 [==============================] - 0s 3ms/step - loss: 0.4894 - accuracy: 0.8417\n",
      "Epoch 90/500\n",
      "12/12 [==============================] - 0s 4ms/step - loss: 0.4869 - accuracy: 0.8417\n",
      "Epoch 91/500\n",
      "12/12 [==============================] - 0s 3ms/step - loss: 0.4845 - accuracy: 0.8417\n",
      "Epoch 92/500\n",
      "12/12 [==============================] - 0s 4ms/step - loss: 0.4820 - accuracy: 0.8417\n",
      "Epoch 93/500\n",
      "12/12 [==============================] - 0s 3ms/step - loss: 0.4797 - accuracy: 0.8417\n",
      "Epoch 94/500\n",
      "12/12 [==============================] - 0s 3ms/step - loss: 0.4773 - accuracy: 0.8417\n",
      "Epoch 95/500\n",
      "12/12 [==============================] - 0s 3ms/step - loss: 0.4754 - accuracy: 0.8417\n",
      "Epoch 96/500\n",
      "12/12 [==============================] - 0s 3ms/step - loss: 0.4725 - accuracy: 0.8417\n",
      "Epoch 97/500\n",
      "12/12 [==============================] - 0s 3ms/step - loss: 0.4703 - accuracy: 0.8500\n",
      "Epoch 98/500\n",
      "12/12 [==============================] - 0s 3ms/step - loss: 0.4679 - accuracy: 0.8583\n",
      "Epoch 99/500\n",
      "12/12 [==============================] - 0s 2ms/step - loss: 0.4658 - accuracy: 0.8583\n",
      "Epoch 100/500\n",
      "12/12 [==============================] - 0s 3ms/step - loss: 0.4635 - accuracy: 0.8583\n",
      "Epoch 101/500\n",
      "12/12 [==============================] - 0s 2ms/step - loss: 0.4613 - accuracy: 0.8583\n",
      "Epoch 102/500\n",
      "12/12 [==============================] - 0s 4ms/step - loss: 0.4592 - accuracy: 0.8667\n",
      "Epoch 103/500\n",
      "12/12 [==============================] - 0s 4ms/step - loss: 0.4570 - accuracy: 0.8667\n",
      "Epoch 104/500\n",
      "12/12 [==============================] - 0s 4ms/step - loss: 0.4550 - accuracy: 0.8667\n",
      "Epoch 105/500\n",
      "12/12 [==============================] - 0s 3ms/step - loss: 0.4527 - accuracy: 0.8667\n",
      "Epoch 106/500\n",
      "12/12 [==============================] - 0s 3ms/step - loss: 0.4505 - accuracy: 0.8667\n",
      "Epoch 107/500\n",
      "12/12 [==============================] - 0s 4ms/step - loss: 0.4485 - accuracy: 0.8667\n",
      "Epoch 108/500\n",
      "12/12 [==============================] - 0s 3ms/step - loss: 0.4465 - accuracy: 0.8667\n",
      "Epoch 109/500\n",
      "12/12 [==============================] - 0s 3ms/step - loss: 0.4444 - accuracy: 0.8667\n",
      "Epoch 110/500\n",
      "12/12 [==============================] - 0s 3ms/step - loss: 0.4424 - accuracy: 0.8667\n",
      "Epoch 111/500\n",
      "12/12 [==============================] - 0s 3ms/step - loss: 0.4405 - accuracy: 0.8750\n",
      "Epoch 112/500\n",
      "12/12 [==============================] - 0s 3ms/step - loss: 0.4385 - accuracy: 0.8750\n",
      "Epoch 113/500\n",
      "12/12 [==============================] - 0s 8ms/step - loss: 0.4365 - accuracy: 0.8750\n",
      "Epoch 114/500\n",
      "12/12 [==============================] - 0s 4ms/step - loss: 0.4347 - accuracy: 0.8750\n",
      "Epoch 115/500\n",
      "12/12 [==============================] - 0s 3ms/step - loss: 0.4329 - accuracy: 0.8667\n",
      "Epoch 116/500\n",
      "12/12 [==============================] - 0s 4ms/step - loss: 0.4308 - accuracy: 0.8667\n",
      "Epoch 117/500\n",
      "12/12 [==============================] - 0s 4ms/step - loss: 0.4290 - accuracy: 0.8667\n",
      "Epoch 118/500\n",
      "12/12 [==============================] - 0s 4ms/step - loss: 0.4274 - accuracy: 0.8667\n",
      "Epoch 119/500\n",
      "12/12 [==============================] - 0s 2ms/step - loss: 0.4252 - accuracy: 0.8667\n",
      "Epoch 120/500\n",
      "12/12 [==============================] - 0s 4ms/step - loss: 0.4234 - accuracy: 0.8667\n",
      "Epoch 121/500\n",
      "12/12 [==============================] - 0s 3ms/step - loss: 0.4216 - accuracy: 0.8750\n",
      "Epoch 122/500\n",
      "12/12 [==============================] - 0s 4ms/step - loss: 0.4197 - accuracy: 0.8750\n",
      "Epoch 123/500\n",
      "12/12 [==============================] - 0s 5ms/step - loss: 0.4179 - accuracy: 0.8750\n",
      "Epoch 124/500\n",
      "12/12 [==============================] - 0s 5ms/step - loss: 0.4160 - accuracy: 0.8750\n",
      "Epoch 125/500\n",
      "12/12 [==============================] - 0s 4ms/step - loss: 0.4143 - accuracy: 0.8750\n",
      "Epoch 126/500\n",
      "12/12 [==============================] - 0s 5ms/step - loss: 0.4124 - accuracy: 0.8750\n",
      "Epoch 127/500\n",
      "12/12 [==============================] - 0s 4ms/step - loss: 0.4106 - accuracy: 0.8750\n",
      "Epoch 128/500\n",
      "12/12 [==============================] - 0s 4ms/step - loss: 0.4089 - accuracy: 0.8750\n",
      "Epoch 129/500\n",
      "12/12 [==============================] - 0s 4ms/step - loss: 0.4070 - accuracy: 0.8750\n",
      "Epoch 130/500\n",
      "12/12 [==============================] - 0s 5ms/step - loss: 0.4053 - accuracy: 0.8750\n",
      "Epoch 131/500\n",
      "12/12 [==============================] - 0s 3ms/step - loss: 0.4035 - accuracy: 0.8750\n",
      "Epoch 132/500\n",
      "12/12 [==============================] - 0s 4ms/step - loss: 0.4019 - accuracy: 0.8750\n",
      "Epoch 133/500\n",
      "12/12 [==============================] - 0s 3ms/step - loss: 0.4000 - accuracy: 0.8833\n",
      "Epoch 134/500\n",
      "12/12 [==============================] - 0s 4ms/step - loss: 0.3984 - accuracy: 0.8833\n",
      "Epoch 135/500\n",
      "12/12 [==============================] - 0s 4ms/step - loss: 0.3967 - accuracy: 0.8833\n",
      "Epoch 136/500\n",
      "12/12 [==============================] - 0s 4ms/step - loss: 0.3952 - accuracy: 0.8833\n",
      "Epoch 137/500\n",
      "12/12 [==============================] - 0s 4ms/step - loss: 0.3936 - accuracy: 0.8833\n",
      "Epoch 138/500\n",
      "12/12 [==============================] - 0s 4ms/step - loss: 0.3919 - accuracy: 0.8833\n",
      "Epoch 139/500\n",
      "12/12 [==============================] - 0s 4ms/step - loss: 0.3903 - accuracy: 0.8833\n",
      "Epoch 140/500\n",
      "12/12 [==============================] - 0s 4ms/step - loss: 0.3887 - accuracy: 0.8833\n",
      "Epoch 141/500\n",
      "12/12 [==============================] - 0s 4ms/step - loss: 0.3872 - accuracy: 0.8833\n",
      "Epoch 142/500\n",
      "12/12 [==============================] - 0s 4ms/step - loss: 0.3857 - accuracy: 0.8833\n",
      "Epoch 143/500\n",
      "12/12 [==============================] - 0s 5ms/step - loss: 0.3844 - accuracy: 0.8833\n",
      "Epoch 144/500\n",
      "12/12 [==============================] - 0s 4ms/step - loss: 0.3826 - accuracy: 0.8750\n",
      "Epoch 145/500\n",
      "12/12 [==============================] - 0s 3ms/step - loss: 0.3815 - accuracy: 0.8750\n",
      "Epoch 146/500\n",
      "12/12 [==============================] - 0s 3ms/step - loss: 0.3796 - accuracy: 0.8833\n",
      "Epoch 147/500\n",
      "12/12 [==============================] - 0s 4ms/step - loss: 0.3782 - accuracy: 0.8833\n",
      "Epoch 148/500\n",
      "12/12 [==============================] - 0s 4ms/step - loss: 0.3766 - accuracy: 0.8833\n",
      "Epoch 149/500\n",
      "12/12 [==============================] - 0s 4ms/step - loss: 0.3752 - accuracy: 0.8833\n",
      "Epoch 150/500\n",
      "12/12 [==============================] - 0s 3ms/step - loss: 0.3737 - accuracy: 0.8833\n",
      "Epoch 151/500\n",
      "12/12 [==============================] - 0s 3ms/step - loss: 0.3724 - accuracy: 0.8833\n",
      "Epoch 152/500\n",
      "12/12 [==============================] - 0s 4ms/step - loss: 0.3710 - accuracy: 0.8833\n",
      "Epoch 153/500\n",
      "12/12 [==============================] - 0s 4ms/step - loss: 0.3694 - accuracy: 0.8833\n",
      "Epoch 154/500\n",
      "12/12 [==============================] - 0s 4ms/step - loss: 0.3680 - accuracy: 0.8833\n",
      "Epoch 155/500\n",
      "12/12 [==============================] - 0s 4ms/step - loss: 0.3667 - accuracy: 0.8750\n",
      "Epoch 156/500\n",
      "12/12 [==============================] - 0s 3ms/step - loss: 0.3652 - accuracy: 0.8750\n",
      "Epoch 157/500\n",
      "12/12 [==============================] - 0s 4ms/step - loss: 0.3638 - accuracy: 0.8750\n",
      "Epoch 158/500\n",
      "12/12 [==============================] - 0s 2ms/step - loss: 0.3625 - accuracy: 0.8833\n",
      "Epoch 159/500\n",
      "12/12 [==============================] - 0s 6ms/step - loss: 0.3611 - accuracy: 0.8833\n",
      "Epoch 160/500\n",
      "12/12 [==============================] - 0s 4ms/step - loss: 0.3597 - accuracy: 0.8833\n",
      "Epoch 161/500\n",
      "12/12 [==============================] - 0s 4ms/step - loss: 0.3583 - accuracy: 0.8833\n",
      "Epoch 162/500\n",
      "12/12 [==============================] - 0s 3ms/step - loss: 0.3571 - accuracy: 0.8833\n",
      "Epoch 163/500\n",
      "12/12 [==============================] - 0s 4ms/step - loss: 0.3558 - accuracy: 0.8833\n",
      "Epoch 164/500\n",
      "12/12 [==============================] - 0s 4ms/step - loss: 0.3543 - accuracy: 0.8833\n",
      "Epoch 165/500\n",
      "12/12 [==============================] - 0s 4ms/step - loss: 0.3531 - accuracy: 0.8833\n",
      "Epoch 166/500\n",
      "12/12 [==============================] - 0s 5ms/step - loss: 0.3518 - accuracy: 0.8833\n",
      "Epoch 167/500\n",
      "12/12 [==============================] - 0s 4ms/step - loss: 0.3504 - accuracy: 0.8833\n",
      "Epoch 168/500\n",
      "12/12 [==============================] - 0s 4ms/step - loss: 0.3492 - accuracy: 0.8833\n",
      "Epoch 169/500\n",
      "12/12 [==============================] - 0s 3ms/step - loss: 0.3478 - accuracy: 0.8833\n",
      "Epoch 170/500\n",
      "12/12 [==============================] - 0s 4ms/step - loss: 0.3465 - accuracy: 0.8833\n",
      "Epoch 171/500\n",
      "12/12 [==============================] - 0s 4ms/step - loss: 0.3453 - accuracy: 0.8833\n",
      "Epoch 172/500\n",
      "12/12 [==============================] - 0s 3ms/step - loss: 0.3442 - accuracy: 0.8917\n",
      "Epoch 173/500\n",
      "12/12 [==============================] - 0s 4ms/step - loss: 0.3427 - accuracy: 0.8917\n",
      "Epoch 174/500\n",
      "12/12 [==============================] - 0s 4ms/step - loss: 0.3414 - accuracy: 0.8917\n",
      "Epoch 175/500\n",
      "12/12 [==============================] - 0s 4ms/step - loss: 0.3401 - accuracy: 0.8917\n",
      "Epoch 176/500\n",
      "12/12 [==============================] - 0s 4ms/step - loss: 0.3389 - accuracy: 0.8917\n",
      "Epoch 177/500\n",
      "12/12 [==============================] - 0s 5ms/step - loss: 0.3376 - accuracy: 0.8917\n",
      "Epoch 178/500\n",
      "12/12 [==============================] - 0s 4ms/step - loss: 0.3364 - accuracy: 0.8917\n",
      "Epoch 179/500\n",
      "12/12 [==============================] - 0s 4ms/step - loss: 0.3350 - accuracy: 0.8917\n",
      "Epoch 180/500\n",
      "12/12 [==============================] - 0s 4ms/step - loss: 0.3338 - accuracy: 0.8917\n",
      "Epoch 181/500\n",
      "12/12 [==============================] - 0s 4ms/step - loss: 0.3325 - accuracy: 0.8917\n",
      "Epoch 182/500\n",
      "12/12 [==============================] - 0s 3ms/step - loss: 0.3314 - accuracy: 0.8917\n",
      "Epoch 183/500\n",
      "12/12 [==============================] - 0s 4ms/step - loss: 0.3302 - accuracy: 0.9000\n",
      "Epoch 184/500\n",
      "12/12 [==============================] - 0s 4ms/step - loss: 0.3287 - accuracy: 0.9000\n",
      "Epoch 185/500\n",
      "12/12 [==============================] - 0s 3ms/step - loss: 0.3275 - accuracy: 0.9000\n",
      "Epoch 186/500\n",
      "12/12 [==============================] - 0s 6ms/step - loss: 0.3263 - accuracy: 0.9000\n",
      "Epoch 187/500\n",
      "12/12 [==============================] - 0s 4ms/step - loss: 0.3250 - accuracy: 0.9083\n",
      "Epoch 188/500\n",
      "12/12 [==============================] - 0s 3ms/step - loss: 0.3239 - accuracy: 0.9083\n",
      "Epoch 189/500\n",
      "12/12 [==============================] - 0s 4ms/step - loss: 0.3226 - accuracy: 0.9000\n",
      "Epoch 190/500\n",
      "12/12 [==============================] - 0s 7ms/step - loss: 0.3214 - accuracy: 0.9000\n",
      "Epoch 191/500\n",
      "12/12 [==============================] - 0s 4ms/step - loss: 0.3201 - accuracy: 0.9000\n",
      "Epoch 192/500\n",
      "12/12 [==============================] - 0s 3ms/step - loss: 0.3191 - accuracy: 0.9083\n",
      "Epoch 193/500\n",
      "12/12 [==============================] - 0s 4ms/step - loss: 0.3176 - accuracy: 0.9083\n",
      "Epoch 194/500\n",
      "12/12 [==============================] - 0s 6ms/step - loss: 0.3165 - accuracy: 0.9083\n",
      "Epoch 195/500\n",
      "12/12 [==============================] - 0s 3ms/step - loss: 0.3152 - accuracy: 0.9083\n",
      "Epoch 196/500\n",
      "12/12 [==============================] - 0s 4ms/step - loss: 0.3141 - accuracy: 0.9167\n",
      "Epoch 197/500\n",
      "12/12 [==============================] - 0s 3ms/step - loss: 0.3128 - accuracy: 0.9167\n",
      "Epoch 198/500\n",
      "12/12 [==============================] - 0s 4ms/step - loss: 0.3117 - accuracy: 0.9167\n",
      "Epoch 199/500\n",
      "12/12 [==============================] - 0s 4ms/step - loss: 0.3104 - accuracy: 0.9167\n",
      "Epoch 200/500\n",
      "12/12 [==============================] - 0s 4ms/step - loss: 0.3093 - accuracy: 0.9167\n",
      "Epoch 201/500\n",
      "12/12 [==============================] - 0s 3ms/step - loss: 0.3081 - accuracy: 0.9167\n",
      "Epoch 202/500\n",
      "12/12 [==============================] - 0s 4ms/step - loss: 0.3069 - accuracy: 0.9167\n",
      "Epoch 203/500\n",
      "12/12 [==============================] - 0s 3ms/step - loss: 0.3057 - accuracy: 0.9167\n",
      "Epoch 204/500\n",
      "12/12 [==============================] - 0s 3ms/step - loss: 0.3044 - accuracy: 0.9167\n",
      "Epoch 205/500\n",
      "12/12 [==============================] - 0s 4ms/step - loss: 0.3033 - accuracy: 0.9167\n",
      "Epoch 206/500\n",
      "12/12 [==============================] - 0s 3ms/step - loss: 0.3022 - accuracy: 0.9167\n",
      "Epoch 207/500\n",
      "12/12 [==============================] - 0s 3ms/step - loss: 0.3012 - accuracy: 0.9167\n",
      "Epoch 208/500\n",
      "12/12 [==============================] - 0s 3ms/step - loss: 0.2997 - accuracy: 0.9167\n",
      "Epoch 209/500\n",
      "12/12 [==============================] - 0s 4ms/step - loss: 0.2986 - accuracy: 0.9167\n",
      "Epoch 210/500\n",
      "12/12 [==============================] - 0s 3ms/step - loss: 0.2975 - accuracy: 0.9167\n",
      "Epoch 211/500\n",
      "12/12 [==============================] - 0s 3ms/step - loss: 0.2965 - accuracy: 0.9167\n",
      "Epoch 212/500\n",
      "12/12 [==============================] - 0s 3ms/step - loss: 0.2952 - accuracy: 0.9167\n",
      "Epoch 213/500\n",
      "12/12 [==============================] - 0s 4ms/step - loss: 0.2940 - accuracy: 0.9167\n",
      "Epoch 214/500\n",
      "12/12 [==============================] - 0s 7ms/step - loss: 0.2929 - accuracy: 0.9167\n",
      "Epoch 215/500\n",
      "12/12 [==============================] - 0s 3ms/step - loss: 0.2918 - accuracy: 0.9167\n",
      "Epoch 216/500\n",
      "12/12 [==============================] - 0s 4ms/step - loss: 0.2907 - accuracy: 0.9250\n",
      "Epoch 217/500\n",
      "12/12 [==============================] - 0s 3ms/step - loss: 0.2896 - accuracy: 0.9167\n",
      "Epoch 218/500\n",
      "12/12 [==============================] - 0s 3ms/step - loss: 0.2886 - accuracy: 0.9250\n",
      "Epoch 219/500\n",
      "12/12 [==============================] - 0s 4ms/step - loss: 0.2874 - accuracy: 0.9250\n",
      "Epoch 220/500\n",
      "12/12 [==============================] - 0s 2ms/step - loss: 0.2862 - accuracy: 0.9250\n",
      "Epoch 221/500\n",
      "12/12 [==============================] - 0s 3ms/step - loss: 0.2851 - accuracy: 0.9250\n",
      "Epoch 222/500\n",
      "12/12 [==============================] - 0s 4ms/step - loss: 0.2844 - accuracy: 0.9250\n",
      "Epoch 223/500\n",
      "12/12 [==============================] - 0s 4ms/step - loss: 0.2830 - accuracy: 0.9250\n",
      "Epoch 224/500\n",
      "12/12 [==============================] - 0s 4ms/step - loss: 0.2820 - accuracy: 0.9250\n",
      "Epoch 225/500\n",
      "12/12 [==============================] - 0s 4ms/step - loss: 0.2810 - accuracy: 0.9250\n",
      "Epoch 226/500\n",
      "12/12 [==============================] - 0s 6ms/step - loss: 0.2797 - accuracy: 0.9250\n",
      "Epoch 227/500\n",
      "12/12 [==============================] - 0s 3ms/step - loss: 0.2786 - accuracy: 0.9250\n",
      "Epoch 228/500\n",
      "12/12 [==============================] - 0s 3ms/step - loss: 0.2776 - accuracy: 0.9250\n",
      "Epoch 229/500\n",
      "12/12 [==============================] - 0s 4ms/step - loss: 0.2766 - accuracy: 0.9250\n",
      "Epoch 230/500\n",
      "12/12 [==============================] - 0s 3ms/step - loss: 0.2754 - accuracy: 0.9250\n",
      "Epoch 231/500\n",
      "12/12 [==============================] - 0s 4ms/step - loss: 0.2745 - accuracy: 0.9250\n",
      "Epoch 232/500\n",
      "12/12 [==============================] - 0s 4ms/step - loss: 0.2734 - accuracy: 0.9250\n",
      "Epoch 233/500\n",
      "12/12 [==============================] - 0s 7ms/step - loss: 0.2723 - accuracy: 0.9250\n",
      "Epoch 234/500\n",
      "12/12 [==============================] - 0s 3ms/step - loss: 0.2711 - accuracy: 0.9250\n",
      "Epoch 235/500\n",
      "12/12 [==============================] - 0s 3ms/step - loss: 0.2701 - accuracy: 0.9250\n",
      "Epoch 236/500\n",
      "12/12 [==============================] - 0s 3ms/step - loss: 0.2690 - accuracy: 0.9250\n",
      "Epoch 237/500\n",
      "12/12 [==============================] - 0s 3ms/step - loss: 0.2682 - accuracy: 0.9250\n",
      "Epoch 238/500\n",
      "12/12 [==============================] - 0s 4ms/step - loss: 0.2669 - accuracy: 0.9250\n",
      "Epoch 239/500\n",
      "12/12 [==============================] - 0s 4ms/step - loss: 0.2658 - accuracy: 0.9250\n",
      "Epoch 240/500\n",
      "12/12 [==============================] - 0s 4ms/step - loss: 0.2649 - accuracy: 0.9250\n",
      "Epoch 241/500\n",
      "12/12 [==============================] - 0s 3ms/step - loss: 0.2638 - accuracy: 0.9250\n",
      "Epoch 242/500\n",
      "12/12 [==============================] - 0s 4ms/step - loss: 0.2629 - accuracy: 0.9250\n",
      "Epoch 243/500\n",
      "12/12 [==============================] - 0s 4ms/step - loss: 0.2617 - accuracy: 0.9250\n",
      "Epoch 244/500\n",
      "12/12 [==============================] - 0s 4ms/step - loss: 0.2607 - accuracy: 0.9333\n",
      "Epoch 245/500\n",
      "12/12 [==============================] - 0s 3ms/step - loss: 0.2596 - accuracy: 0.9333\n",
      "Epoch 246/500\n",
      "12/12 [==============================] - 0s 2ms/step - loss: 0.2586 - accuracy: 0.9333\n",
      "Epoch 247/500\n",
      "12/12 [==============================] - 0s 4ms/step - loss: 0.2575 - accuracy: 0.9333\n",
      "Epoch 248/500\n",
      "12/12 [==============================] - 0s 3ms/step - loss: 0.2567 - accuracy: 0.9333\n",
      "Epoch 249/500\n",
      "12/12 [==============================] - 0s 4ms/step - loss: 0.2555 - accuracy: 0.9333\n",
      "Epoch 250/500\n",
      "12/12 [==============================] - 0s 4ms/step - loss: 0.2545 - accuracy: 0.9333\n",
      "Epoch 251/500\n",
      "12/12 [==============================] - 0s 4ms/step - loss: 0.2536 - accuracy: 0.9333\n",
      "Epoch 252/500\n",
      "12/12 [==============================] - 0s 3ms/step - loss: 0.2525 - accuracy: 0.9333\n",
      "Epoch 253/500\n",
      "12/12 [==============================] - 0s 3ms/step - loss: 0.2514 - accuracy: 0.9333\n",
      "Epoch 254/500\n",
      "12/12 [==============================] - 0s 3ms/step - loss: 0.2506 - accuracy: 0.9333\n",
      "Epoch 255/500\n",
      "12/12 [==============================] - 0s 3ms/step - loss: 0.2492 - accuracy: 0.9333\n",
      "Epoch 256/500\n",
      "12/12 [==============================] - 0s 3ms/step - loss: 0.2485 - accuracy: 0.9333\n",
      "Epoch 257/500\n",
      "12/12 [==============================] - 0s 4ms/step - loss: 0.2470 - accuracy: 0.9333\n",
      "Epoch 258/500\n",
      "12/12 [==============================] - 0s 4ms/step - loss: 0.2458 - accuracy: 0.9333\n",
      "Epoch 259/500\n",
      "12/12 [==============================] - 0s 3ms/step - loss: 0.2446 - accuracy: 0.9333\n",
      "Epoch 260/500\n",
      "12/12 [==============================] - 0s 4ms/step - loss: 0.2434 - accuracy: 0.9333\n",
      "Epoch 261/500\n",
      "12/12 [==============================] - 0s 3ms/step - loss: 0.2422 - accuracy: 0.9333\n",
      "Epoch 262/500\n",
      "12/12 [==============================] - 0s 3ms/step - loss: 0.2411 - accuracy: 0.9333\n",
      "Epoch 263/500\n",
      "12/12 [==============================] - 0s 4ms/step - loss: 0.2400 - accuracy: 0.9333\n",
      "Epoch 264/500\n",
      "12/12 [==============================] - 0s 3ms/step - loss: 0.2389 - accuracy: 0.9333\n",
      "Epoch 265/500\n",
      "12/12 [==============================] - 0s 4ms/step - loss: 0.2377 - accuracy: 0.9333\n",
      "Epoch 266/500\n",
      "12/12 [==============================] - 0s 4ms/step - loss: 0.2366 - accuracy: 0.9333\n",
      "Epoch 267/500\n",
      "12/12 [==============================] - 0s 3ms/step - loss: 0.2356 - accuracy: 0.9333\n",
      "Epoch 268/500\n",
      "12/12 [==============================] - 0s 3ms/step - loss: 0.2343 - accuracy: 0.9333\n",
      "Epoch 269/500\n",
      "12/12 [==============================] - 0s 6ms/step - loss: 0.2333 - accuracy: 0.9333\n",
      "Epoch 270/500\n",
      "12/12 [==============================] - 0s 3ms/step - loss: 0.2323 - accuracy: 0.9333\n",
      "Epoch 271/500\n",
      "12/12 [==============================] - 0s 3ms/step - loss: 0.2312 - accuracy: 0.9333\n",
      "Epoch 272/500\n",
      "12/12 [==============================] - 0s 4ms/step - loss: 0.2300 - accuracy: 0.9333\n",
      "Epoch 273/500\n",
      "12/12 [==============================] - 0s 3ms/step - loss: 0.2291 - accuracy: 0.9333\n",
      "Epoch 274/500\n",
      "12/12 [==============================] - 0s 4ms/step - loss: 0.2279 - accuracy: 0.9333\n",
      "Epoch 275/500\n",
      "12/12 [==============================] - 0s 3ms/step - loss: 0.2269 - accuracy: 0.9333\n",
      "Epoch 276/500\n",
      "12/12 [==============================] - 0s 3ms/step - loss: 0.2259 - accuracy: 0.9333\n",
      "Epoch 277/500\n",
      "12/12 [==============================] - 0s 4ms/step - loss: 0.2249 - accuracy: 0.9333\n",
      "Epoch 278/500\n",
      "12/12 [==============================] - 0s 7ms/step - loss: 0.2239 - accuracy: 0.9333\n",
      "Epoch 279/500\n",
      "12/12 [==============================] - 0s 3ms/step - loss: 0.2227 - accuracy: 0.9333\n",
      "Epoch 280/500\n",
      "12/12 [==============================] - 0s 4ms/step - loss: 0.2219 - accuracy: 0.9333\n",
      "Epoch 281/500\n",
      "12/12 [==============================] - 0s 3ms/step - loss: 0.2205 - accuracy: 0.9333\n",
      "Epoch 282/500\n",
      "12/12 [==============================] - 0s 3ms/step - loss: 0.2196 - accuracy: 0.9333\n",
      "Epoch 283/500\n",
      "12/12 [==============================] - 0s 4ms/step - loss: 0.2185 - accuracy: 0.9333\n",
      "Epoch 284/500\n",
      "12/12 [==============================] - 0s 3ms/step - loss: 0.2175 - accuracy: 0.9417\n",
      "Epoch 285/500\n",
      "12/12 [==============================] - 0s 3ms/step - loss: 0.2165 - accuracy: 0.9417\n",
      "Epoch 286/500\n",
      "12/12 [==============================] - 0s 3ms/step - loss: 0.2155 - accuracy: 0.9500\n",
      "Epoch 287/500\n",
      "12/12 [==============================] - 0s 3ms/step - loss: 0.2145 - accuracy: 0.9500\n",
      "Epoch 288/500\n",
      "12/12 [==============================] - 0s 4ms/step - loss: 0.2135 - accuracy: 0.9500\n",
      "Epoch 289/500\n",
      "12/12 [==============================] - 0s 7ms/step - loss: 0.2126 - accuracy: 0.9500\n",
      "Epoch 290/500\n",
      "12/12 [==============================] - 0s 3ms/step - loss: 0.2115 - accuracy: 0.9500\n",
      "Epoch 291/500\n",
      "12/12 [==============================] - 0s 4ms/step - loss: 0.2106 - accuracy: 0.9500\n",
      "Epoch 292/500\n",
      "12/12 [==============================] - 0s 3ms/step - loss: 0.2098 - accuracy: 0.9500\n",
      "Epoch 293/500\n",
      "12/12 [==============================] - 0s 3ms/step - loss: 0.2085 - accuracy: 0.9500\n",
      "Epoch 294/500\n",
      "12/12 [==============================] - 0s 4ms/step - loss: 0.2079 - accuracy: 0.9500\n",
      "Epoch 295/500\n",
      "12/12 [==============================] - 0s 4ms/step - loss: 0.2066 - accuracy: 0.9500\n",
      "Epoch 296/500\n",
      "12/12 [==============================] - 0s 3ms/step - loss: 0.2056 - accuracy: 0.9500\n",
      "Epoch 297/500\n",
      "12/12 [==============================] - 0s 4ms/step - loss: 0.2047 - accuracy: 0.9500\n",
      "Epoch 298/500\n",
      "12/12 [==============================] - 0s 3ms/step - loss: 0.2037 - accuracy: 0.9500\n",
      "Epoch 299/500\n",
      "12/12 [==============================] - 0s 4ms/step - loss: 0.2029 - accuracy: 0.9500\n",
      "Epoch 300/500\n",
      "12/12 [==============================] - 0s 3ms/step - loss: 0.2018 - accuracy: 0.9500\n",
      "Epoch 301/500\n",
      "12/12 [==============================] - 0s 4ms/step - loss: 0.2009 - accuracy: 0.9500\n",
      "Epoch 302/500\n",
      "12/12 [==============================] - 0s 3ms/step - loss: 0.2000 - accuracy: 0.9500\n",
      "Epoch 303/500\n",
      "12/12 [==============================] - 0s 4ms/step - loss: 0.1990 - accuracy: 0.9500\n",
      "Epoch 304/500\n",
      "12/12 [==============================] - 0s 3ms/step - loss: 0.1978 - accuracy: 0.9500\n",
      "Epoch 305/500\n",
      "12/12 [==============================] - 0s 4ms/step - loss: 0.1969 - accuracy: 0.9500\n",
      "Epoch 306/500\n",
      "12/12 [==============================] - 0s 3ms/step - loss: 0.1958 - accuracy: 0.9500\n",
      "Epoch 307/500\n",
      "12/12 [==============================] - 0s 3ms/step - loss: 0.1948 - accuracy: 0.9500\n",
      "Epoch 308/500\n",
      "12/12 [==============================] - 0s 4ms/step - loss: 0.1939 - accuracy: 0.9500\n",
      "Epoch 309/500\n",
      "12/12 [==============================] - 0s 4ms/step - loss: 0.1927 - accuracy: 0.9500\n",
      "Epoch 310/500\n",
      "12/12 [==============================] - 0s 3ms/step - loss: 0.1917 - accuracy: 0.9500\n",
      "Epoch 311/500\n",
      "12/12 [==============================] - 0s 3ms/step - loss: 0.1908 - accuracy: 0.9500\n",
      "Epoch 312/500\n",
      "12/12 [==============================] - 0s 3ms/step - loss: 0.1897 - accuracy: 0.9500\n",
      "Epoch 313/500\n",
      "12/12 [==============================] - 0s 3ms/step - loss: 0.1887 - accuracy: 0.9500\n",
      "Epoch 314/500\n",
      "12/12 [==============================] - 0s 3ms/step - loss: 0.1878 - accuracy: 0.9500\n",
      "Epoch 315/500\n",
      "12/12 [==============================] - 0s 4ms/step - loss: 0.1867 - accuracy: 0.9500\n",
      "Epoch 316/500\n",
      "12/12 [==============================] - 0s 3ms/step - loss: 0.1859 - accuracy: 0.9500\n",
      "Epoch 317/500\n",
      "12/12 [==============================] - 0s 4ms/step - loss: 0.1849 - accuracy: 0.9500\n",
      "Epoch 318/500\n",
      "12/12 [==============================] - 0s 3ms/step - loss: 0.1839 - accuracy: 0.9500\n",
      "Epoch 319/500\n",
      "12/12 [==============================] - 0s 2ms/step - loss: 0.1830 - accuracy: 0.9500\n",
      "Epoch 320/500\n",
      "12/12 [==============================] - 0s 3ms/step - loss: 0.1821 - accuracy: 0.9500\n",
      "Epoch 321/500\n",
      "12/12 [==============================] - 0s 4ms/step - loss: 0.1813 - accuracy: 0.9500\n",
      "Epoch 322/500\n",
      "12/12 [==============================] - 0s 1ms/step - loss: 0.1802 - accuracy: 0.9500\n",
      "Epoch 323/500\n",
      "12/12 [==============================] - 0s 3ms/step - loss: 0.1791 - accuracy: 0.9500\n",
      "Epoch 324/500\n",
      "12/12 [==============================] - 0s 4ms/step - loss: 0.1781 - accuracy: 0.9500\n",
      "Epoch 325/500\n",
      "12/12 [==============================] - 0s 4ms/step - loss: 0.1768 - accuracy: 0.9500\n",
      "Epoch 326/500\n",
      "12/12 [==============================] - 0s 3ms/step - loss: 0.1759 - accuracy: 0.9500\n",
      "Epoch 327/500\n",
      "12/12 [==============================] - 0s 3ms/step - loss: 0.1749 - accuracy: 0.9500\n",
      "Epoch 328/500\n",
      "12/12 [==============================] - 0s 4ms/step - loss: 0.1739 - accuracy: 0.9500\n",
      "Epoch 329/500\n",
      "12/12 [==============================] - 0s 3ms/step - loss: 0.1728 - accuracy: 0.9500\n",
      "Epoch 330/500\n",
      "12/12 [==============================] - 0s 4ms/step - loss: 0.1717 - accuracy: 0.9500\n",
      "Epoch 331/500\n",
      "12/12 [==============================] - 0s 3ms/step - loss: 0.1707 - accuracy: 0.9500\n",
      "Epoch 332/500\n",
      "12/12 [==============================] - 0s 4ms/step - loss: 0.1700 - accuracy: 0.9583\n",
      "Epoch 333/500\n",
      "12/12 [==============================] - 0s 6ms/step - loss: 0.1689 - accuracy: 0.9583\n",
      "Epoch 334/500\n",
      "12/12 [==============================] - 0s 3ms/step - loss: 0.1677 - accuracy: 0.9583\n",
      "Epoch 335/500\n",
      "12/12 [==============================] - 0s 3ms/step - loss: 0.1668 - accuracy: 0.9583\n",
      "Epoch 336/500\n",
      "12/12 [==============================] - 0s 4ms/step - loss: 0.1658 - accuracy: 0.9583\n",
      "Epoch 337/500\n",
      "12/12 [==============================] - 0s 4ms/step - loss: 0.1649 - accuracy: 0.9583\n",
      "Epoch 338/500\n",
      "12/12 [==============================] - 0s 3ms/step - loss: 0.1638 - accuracy: 0.9583\n",
      "Epoch 339/500\n",
      "12/12 [==============================] - 0s 3ms/step - loss: 0.1629 - accuracy: 0.9583\n",
      "Epoch 340/500\n",
      "12/12 [==============================] - 0s 3ms/step - loss: 0.1619 - accuracy: 0.9583\n",
      "Epoch 341/500\n",
      "12/12 [==============================] - 0s 3ms/step - loss: 0.1609 - accuracy: 0.9583\n",
      "Epoch 342/500\n",
      "12/12 [==============================] - 0s 3ms/step - loss: 0.1601 - accuracy: 0.9583\n",
      "Epoch 343/500\n",
      "12/12 [==============================] - 0s 3ms/step - loss: 0.1592 - accuracy: 0.9583\n",
      "Epoch 344/500\n",
      "12/12 [==============================] - 0s 3ms/step - loss: 0.1582 - accuracy: 0.9583\n",
      "Epoch 345/500\n",
      "12/12 [==============================] - 0s 4ms/step - loss: 0.1572 - accuracy: 0.9583\n",
      "Epoch 346/500\n",
      "12/12 [==============================] - 0s 3ms/step - loss: 0.1563 - accuracy: 0.9583\n",
      "Epoch 347/500\n",
      "12/12 [==============================] - 0s 4ms/step - loss: 0.1555 - accuracy: 0.9583\n",
      "Epoch 348/500\n",
      "12/12 [==============================] - 0s 4ms/step - loss: 0.1546 - accuracy: 0.9583\n",
      "Epoch 349/500\n",
      "12/12 [==============================] - 0s 4ms/step - loss: 0.1537 - accuracy: 0.9583\n",
      "Epoch 350/500\n",
      "12/12 [==============================] - 0s 3ms/step - loss: 0.1528 - accuracy: 0.9583\n",
      "Epoch 351/500\n",
      "12/12 [==============================] - 0s 3ms/step - loss: 0.1520 - accuracy: 0.9583\n",
      "Epoch 352/500\n",
      "12/12 [==============================] - 0s 3ms/step - loss: 0.1511 - accuracy: 0.9583\n",
      "Epoch 353/500\n",
      "12/12 [==============================] - 0s 4ms/step - loss: 0.1505 - accuracy: 0.9583\n",
      "Epoch 354/500\n",
      "12/12 [==============================] - 0s 3ms/step - loss: 0.1494 - accuracy: 0.9583\n",
      "Epoch 355/500\n",
      "12/12 [==============================] - 0s 3ms/step - loss: 0.1487 - accuracy: 0.9583\n",
      "Epoch 356/500\n",
      "12/12 [==============================] - 0s 3ms/step - loss: 0.1477 - accuracy: 0.9583\n",
      "Epoch 357/500\n",
      "12/12 [==============================] - 0s 3ms/step - loss: 0.1470 - accuracy: 0.9583\n",
      "Epoch 358/500\n",
      "12/12 [==============================] - 0s 3ms/step - loss: 0.1461 - accuracy: 0.9583\n",
      "Epoch 359/500\n",
      "12/12 [==============================] - 0s 4ms/step - loss: 0.1455 - accuracy: 0.9583\n",
      "Epoch 360/500\n",
      "12/12 [==============================] - 0s 4ms/step - loss: 0.1446 - accuracy: 0.9583\n",
      "Epoch 361/500\n",
      "12/12 [==============================] - 0s 3ms/step - loss: 0.1438 - accuracy: 0.9583\n",
      "Epoch 362/500\n",
      "12/12 [==============================] - 0s 3ms/step - loss: 0.1430 - accuracy: 0.9583\n",
      "Epoch 363/500\n",
      "12/12 [==============================] - 0s 4ms/step - loss: 0.1422 - accuracy: 0.9583\n",
      "Epoch 364/500\n",
      "12/12 [==============================] - 0s 4ms/step - loss: 0.1415 - accuracy: 0.9583\n",
      "Epoch 365/500\n",
      "12/12 [==============================] - 0s 4ms/step - loss: 0.1409 - accuracy: 0.9583\n",
      "Epoch 366/500\n",
      "12/12 [==============================] - 0s 3ms/step - loss: 0.1400 - accuracy: 0.9583\n",
      "Epoch 367/500\n",
      "12/12 [==============================] - 0s 4ms/step - loss: 0.1392 - accuracy: 0.9583\n",
      "Epoch 368/500\n",
      "12/12 [==============================] - 0s 4ms/step - loss: 0.1385 - accuracy: 0.9583\n",
      "Epoch 369/500\n",
      "12/12 [==============================] - 0s 3ms/step - loss: 0.1379 - accuracy: 0.9583\n",
      "Epoch 370/500\n",
      "12/12 [==============================] - 0s 3ms/step - loss: 0.1371 - accuracy: 0.9583\n",
      "Epoch 371/500\n",
      "12/12 [==============================] - 0s 4ms/step - loss: 0.1364 - accuracy: 0.9583\n",
      "Epoch 372/500\n",
      "12/12 [==============================] - 0s 4ms/step - loss: 0.1356 - accuracy: 0.9583\n",
      "Epoch 373/500\n",
      "12/12 [==============================] - 0s 3ms/step - loss: 0.1350 - accuracy: 0.9583\n",
      "Epoch 374/500\n",
      "12/12 [==============================] - 0s 4ms/step - loss: 0.1343 - accuracy: 0.9583\n",
      "Epoch 375/500\n",
      "12/12 [==============================] - 0s 4ms/step - loss: 0.1342 - accuracy: 0.9583\n",
      "Epoch 376/500\n",
      "12/12 [==============================] - 0s 2ms/step - loss: 0.1331 - accuracy: 0.9583\n",
      "Epoch 377/500\n",
      "12/12 [==============================] - 0s 2ms/step - loss: 0.1322 - accuracy: 0.9583\n",
      "Epoch 378/500\n",
      "12/12 [==============================] - 0s 3ms/step - loss: 0.1318 - accuracy: 0.9583\n",
      "Epoch 379/500\n",
      "12/12 [==============================] - 0s 4ms/step - loss: 0.1308 - accuracy: 0.9583\n",
      "Epoch 380/500\n",
      "12/12 [==============================] - 0s 3ms/step - loss: 0.1302 - accuracy: 0.9583\n",
      "Epoch 381/500\n",
      "12/12 [==============================] - 0s 2ms/step - loss: 0.1296 - accuracy: 0.9667\n",
      "Epoch 382/500\n",
      "12/12 [==============================] - 0s 4ms/step - loss: 0.1289 - accuracy: 0.9667\n",
      "Epoch 383/500\n",
      "12/12 [==============================] - 0s 3ms/step - loss: 0.1283 - accuracy: 0.9667\n",
      "Epoch 384/500\n",
      "12/12 [==============================] - 0s 4ms/step - loss: 0.1276 - accuracy: 0.9667\n",
      "Epoch 385/500\n",
      "12/12 [==============================] - 0s 3ms/step - loss: 0.1270 - accuracy: 0.9667\n",
      "Epoch 386/500\n",
      "12/12 [==============================] - 0s 5ms/step - loss: 0.1264 - accuracy: 0.9667\n",
      "Epoch 387/500\n",
      "12/12 [==============================] - 0s 3ms/step - loss: 0.1258 - accuracy: 0.9667\n",
      "Epoch 388/500\n",
      "12/12 [==============================] - 0s 3ms/step - loss: 0.1251 - accuracy: 0.9667\n",
      "Epoch 389/500\n",
      "12/12 [==============================] - 0s 3ms/step - loss: 0.1247 - accuracy: 0.9667\n",
      "Epoch 390/500\n",
      "12/12 [==============================] - 0s 3ms/step - loss: 0.1239 - accuracy: 0.9667\n",
      "Epoch 391/500\n",
      "12/12 [==============================] - 0s 4ms/step - loss: 0.1233 - accuracy: 0.9667\n",
      "Epoch 392/500\n",
      "12/12 [==============================] - 0s 3ms/step - loss: 0.1227 - accuracy: 0.9667\n",
      "Epoch 393/500\n",
      "12/12 [==============================] - 0s 3ms/step - loss: 0.1221 - accuracy: 0.9667\n",
      "Epoch 394/500\n",
      "12/12 [==============================] - 0s 3ms/step - loss: 0.1215 - accuracy: 0.9750\n",
      "Epoch 395/500\n",
      "12/12 [==============================] - 0s 4ms/step - loss: 0.1210 - accuracy: 0.9750\n",
      "Epoch 396/500\n",
      "12/12 [==============================] - 0s 3ms/step - loss: 0.1206 - accuracy: 0.9750\n",
      "Epoch 397/500\n",
      "12/12 [==============================] - 0s 3ms/step - loss: 0.1198 - accuracy: 0.9750\n",
      "Epoch 398/500\n",
      "12/12 [==============================] - 0s 4ms/step - loss: 0.1193 - accuracy: 0.9750\n",
      "Epoch 399/500\n",
      "12/12 [==============================] - 0s 3ms/step - loss: 0.1187 - accuracy: 0.9750\n",
      "Epoch 400/500\n",
      "12/12 [==============================] - 0s 6ms/step - loss: 0.1183 - accuracy: 0.9750\n",
      "Epoch 401/500\n",
      "12/12 [==============================] - 0s 4ms/step - loss: 0.1178 - accuracy: 0.9750\n",
      "Epoch 402/500\n",
      "12/12 [==============================] - 0s 3ms/step - loss: 0.1172 - accuracy: 0.9750\n",
      "Epoch 403/500\n",
      "12/12 [==============================] - 0s 4ms/step - loss: 0.1166 - accuracy: 0.9750\n",
      "Epoch 404/500\n",
      "12/12 [==============================] - 0s 3ms/step - loss: 0.1161 - accuracy: 0.9750\n",
      "Epoch 405/500\n",
      "12/12 [==============================] - 0s 6ms/step - loss: 0.1156 - accuracy: 0.9750\n",
      "Epoch 406/500\n",
      "12/12 [==============================] - 0s 2ms/step - loss: 0.1153 - accuracy: 0.9750\n",
      "Epoch 407/500\n",
      "12/12 [==============================] - 0s 3ms/step - loss: 0.1146 - accuracy: 0.9750\n",
      "Epoch 408/500\n",
      "12/12 [==============================] - 0s 4ms/step - loss: 0.1141 - accuracy: 0.9750\n",
      "Epoch 409/500\n",
      "12/12 [==============================] - 0s 3ms/step - loss: 0.1136 - accuracy: 0.9750\n",
      "Epoch 410/500\n",
      "12/12 [==============================] - 0s 4ms/step - loss: 0.1132 - accuracy: 0.9750\n",
      "Epoch 411/500\n",
      "12/12 [==============================] - 0s 4ms/step - loss: 0.1126 - accuracy: 0.9750\n",
      "Epoch 412/500\n",
      "12/12 [==============================] - 0s 4ms/step - loss: 0.1122 - accuracy: 0.9750\n",
      "Epoch 413/500\n",
      "12/12 [==============================] - 0s 3ms/step - loss: 0.1116 - accuracy: 0.9750\n",
      "Epoch 414/500\n",
      "12/12 [==============================] - 0s 4ms/step - loss: 0.1112 - accuracy: 0.9750\n",
      "Epoch 415/500\n",
      "12/12 [==============================] - 0s 4ms/step - loss: 0.1107 - accuracy: 0.9750\n",
      "Epoch 416/500\n",
      "12/12 [==============================] - 0s 4ms/step - loss: 0.1103 - accuracy: 0.9750\n",
      "Epoch 417/500\n",
      "12/12 [==============================] - 0s 5ms/step - loss: 0.1097 - accuracy: 0.9750\n",
      "Epoch 418/500\n",
      "12/12 [==============================] - 0s 2ms/step - loss: 0.1093 - accuracy: 0.9750\n",
      "Epoch 419/500\n",
      "12/12 [==============================] - 0s 3ms/step - loss: 0.1089 - accuracy: 0.9750\n",
      "Epoch 420/500\n",
      "12/12 [==============================] - 0s 3ms/step - loss: 0.1084 - accuracy: 0.9750\n",
      "Epoch 421/500\n",
      "12/12 [==============================] - 0s 3ms/step - loss: 0.1080 - accuracy: 0.9750\n",
      "Epoch 422/500\n",
      "12/12 [==============================] - 0s 3ms/step - loss: 0.1078 - accuracy: 0.9750\n",
      "Epoch 423/500\n",
      "12/12 [==============================] - 0s 3ms/step - loss: 0.1072 - accuracy: 0.9750\n",
      "Epoch 424/500\n",
      "12/12 [==============================] - 0s 3ms/step - loss: 0.1066 - accuracy: 0.9750\n",
      "Epoch 425/500\n",
      "12/12 [==============================] - 0s 4ms/step - loss: 0.1062 - accuracy: 0.9750\n",
      "Epoch 426/500\n",
      "12/12 [==============================] - 0s 4ms/step - loss: 0.1058 - accuracy: 0.9750\n",
      "Epoch 427/500\n",
      "12/12 [==============================] - 0s 4ms/step - loss: 0.1054 - accuracy: 0.9750\n",
      "Epoch 428/500\n",
      "12/12 [==============================] - 0s 3ms/step - loss: 0.1050 - accuracy: 0.9750\n",
      "Epoch 429/500\n",
      "12/12 [==============================] - 0s 3ms/step - loss: 0.1044 - accuracy: 0.9750\n",
      "Epoch 430/500\n",
      "12/12 [==============================] - 0s 4ms/step - loss: 0.1041 - accuracy: 0.9750\n",
      "Epoch 431/500\n",
      "12/12 [==============================] - 0s 4ms/step - loss: 0.1036 - accuracy: 0.9750\n",
      "Epoch 432/500\n",
      "12/12 [==============================] - 0s 4ms/step - loss: 0.1032 - accuracy: 0.9750\n",
      "Epoch 433/500\n",
      "12/12 [==============================] - 0s 7ms/step - loss: 0.1028 - accuracy: 0.9750\n",
      "Epoch 434/500\n",
      "12/12 [==============================] - 0s 3ms/step - loss: 0.1025 - accuracy: 0.9750\n",
      "Epoch 435/500\n",
      "12/12 [==============================] - 0s 3ms/step - loss: 0.1020 - accuracy: 0.9750\n",
      "Epoch 436/500\n",
      "12/12 [==============================] - 0s 3ms/step - loss: 0.1016 - accuracy: 0.9750\n",
      "Epoch 437/500\n",
      "12/12 [==============================] - 0s 3ms/step - loss: 0.1012 - accuracy: 0.9750\n",
      "Epoch 438/500\n",
      "12/12 [==============================] - 0s 3ms/step - loss: 0.1008 - accuracy: 0.9750\n",
      "Epoch 439/500\n",
      "12/12 [==============================] - 0s 4ms/step - loss: 0.1005 - accuracy: 0.9750\n",
      "Epoch 440/500\n",
      "12/12 [==============================] - 0s 4ms/step - loss: 0.1000 - accuracy: 0.9750\n",
      "Epoch 441/500\n",
      "12/12 [==============================] - 0s 4ms/step - loss: 0.0996 - accuracy: 0.9750\n",
      "Epoch 442/500\n",
      "12/12 [==============================] - 0s 4ms/step - loss: 0.0992 - accuracy: 0.9750\n",
      "Epoch 443/500\n",
      "12/12 [==============================] - 0s 4ms/step - loss: 0.0988 - accuracy: 0.9750\n",
      "Epoch 444/500\n",
      "12/12 [==============================] - 0s 3ms/step - loss: 0.0984 - accuracy: 0.9750\n",
      "Epoch 445/500\n",
      "12/12 [==============================] - 0s 3ms/step - loss: 0.0982 - accuracy: 0.9750\n",
      "Epoch 446/500\n",
      "12/12 [==============================] - 0s 3ms/step - loss: 0.0977 - accuracy: 0.9750\n",
      "Epoch 447/500\n",
      "12/12 [==============================] - 0s 3ms/step - loss: 0.0975 - accuracy: 0.9750\n",
      "Epoch 448/500\n",
      "12/12 [==============================] - 0s 3ms/step - loss: 0.0970 - accuracy: 0.9750\n",
      "Epoch 449/500\n",
      "12/12 [==============================] - 0s 4ms/step - loss: 0.0966 - accuracy: 0.9750\n",
      "Epoch 450/500\n",
      "12/12 [==============================] - 0s 4ms/step - loss: 0.0962 - accuracy: 0.9750\n",
      "Epoch 451/500\n",
      "12/12 [==============================] - 0s 3ms/step - loss: 0.0959 - accuracy: 0.9750\n",
      "Epoch 452/500\n",
      "12/12 [==============================] - 0s 3ms/step - loss: 0.0956 - accuracy: 0.9750\n",
      "Epoch 453/500\n",
      "12/12 [==============================] - 0s 3ms/step - loss: 0.0952 - accuracy: 0.9750\n",
      "Epoch 454/500\n",
      "12/12 [==============================] - 0s 3ms/step - loss: 0.0948 - accuracy: 0.9750\n",
      "Epoch 455/500\n",
      "12/12 [==============================] - 0s 4ms/step - loss: 0.0945 - accuracy: 0.9750\n",
      "Epoch 456/500\n",
      "12/12 [==============================] - 0s 3ms/step - loss: 0.0941 - accuracy: 0.9750\n",
      "Epoch 457/500\n",
      "12/12 [==============================] - 0s 2ms/step - loss: 0.0939 - accuracy: 0.9750\n",
      "Epoch 458/500\n",
      "12/12 [==============================] - 0s 3ms/step - loss: 0.0935 - accuracy: 0.9750\n",
      "Epoch 459/500\n",
      "12/12 [==============================] - 0s 3ms/step - loss: 0.0930 - accuracy: 0.9750\n",
      "Epoch 460/500\n",
      "12/12 [==============================] - 0s 4ms/step - loss: 0.0927 - accuracy: 0.9750\n",
      "Epoch 461/500\n",
      "12/12 [==============================] - 0s 4ms/step - loss: 0.0924 - accuracy: 0.9750\n",
      "Epoch 462/500\n",
      "12/12 [==============================] - 0s 3ms/step - loss: 0.0920 - accuracy: 0.9750\n",
      "Epoch 463/500\n",
      "12/12 [==============================] - 0s 4ms/step - loss: 0.0918 - accuracy: 0.9750\n",
      "Epoch 464/500\n",
      "12/12 [==============================] - 0s 4ms/step - loss: 0.0914 - accuracy: 0.9750\n",
      "Epoch 465/500\n",
      "12/12 [==============================] - 0s 3ms/step - loss: 0.0911 - accuracy: 0.9750\n",
      "Epoch 466/500\n",
      "12/12 [==============================] - 0s 5ms/step - loss: 0.0906 - accuracy: 0.9750\n",
      "Epoch 467/500\n",
      "12/12 [==============================] - 0s 3ms/step - loss: 0.0903 - accuracy: 0.9750\n",
      "Epoch 468/500\n",
      "12/12 [==============================] - 0s 3ms/step - loss: 0.0900 - accuracy: 0.9750\n",
      "Epoch 469/500\n",
      "12/12 [==============================] - 0s 4ms/step - loss: 0.0897 - accuracy: 0.9750\n",
      "Epoch 470/500\n",
      "12/12 [==============================] - 0s 4ms/step - loss: 0.0892 - accuracy: 0.9750\n",
      "Epoch 471/500\n",
      "12/12 [==============================] - 0s 3ms/step - loss: 0.0890 - accuracy: 0.9750\n",
      "Epoch 472/500\n",
      "12/12 [==============================] - 0s 3ms/step - loss: 0.0886 - accuracy: 0.9750\n",
      "Epoch 473/500\n",
      "12/12 [==============================] - 0s 4ms/step - loss: 0.0885 - accuracy: 0.9750\n",
      "Epoch 474/500\n",
      "12/12 [==============================] - 0s 4ms/step - loss: 0.0880 - accuracy: 0.9750\n",
      "Epoch 475/500\n",
      "12/12 [==============================] - 0s 3ms/step - loss: 0.0876 - accuracy: 0.9750\n",
      "Epoch 476/500\n",
      "12/12 [==============================] - 0s 4ms/step - loss: 0.0873 - accuracy: 0.9750\n",
      "Epoch 477/500\n",
      "12/12 [==============================] - 0s 3ms/step - loss: 0.0870 - accuracy: 0.9750\n",
      "Epoch 478/500\n",
      "12/12 [==============================] - 0s 3ms/step - loss: 0.0867 - accuracy: 0.9750\n",
      "Epoch 479/500\n",
      "12/12 [==============================] - 0s 3ms/step - loss: 0.0864 - accuracy: 0.9750\n",
      "Epoch 480/500\n",
      "12/12 [==============================] - 0s 3ms/step - loss: 0.0861 - accuracy: 0.9750\n",
      "Epoch 481/500\n",
      "12/12 [==============================] - 0s 6ms/step - loss: 0.0857 - accuracy: 0.9750\n",
      "Epoch 482/500\n",
      "12/12 [==============================] - 0s 8ms/step - loss: 0.0854 - accuracy: 0.9750\n",
      "Epoch 483/500\n",
      "12/12 [==============================] - 0s 4ms/step - loss: 0.0851 - accuracy: 0.9750\n",
      "Epoch 484/500\n",
      "12/12 [==============================] - 0s 3ms/step - loss: 0.0848 - accuracy: 0.9750\n",
      "Epoch 485/500\n",
      "12/12 [==============================] - 0s 4ms/step - loss: 0.0846 - accuracy: 0.9750\n",
      "Epoch 486/500\n",
      "12/12 [==============================] - 0s 4ms/step - loss: 0.0844 - accuracy: 0.9750\n",
      "Epoch 487/500\n",
      "12/12 [==============================] - 0s 3ms/step - loss: 0.0845 - accuracy: 0.9750\n",
      "Epoch 488/500\n",
      "12/12 [==============================] - 0s 4ms/step - loss: 0.0837 - accuracy: 0.9750\n",
      "Epoch 489/500\n",
      "12/12 [==============================] - 0s 3ms/step - loss: 0.0834 - accuracy: 0.9750\n",
      "Epoch 490/500\n",
      "12/12 [==============================] - 0s 4ms/step - loss: 0.0832 - accuracy: 0.9750\n",
      "Epoch 491/500\n",
      "12/12 [==============================] - 0s 4ms/step - loss: 0.0829 - accuracy: 0.9750\n",
      "Epoch 492/500\n",
      "12/12 [==============================] - 0s 4ms/step - loss: 0.0826 - accuracy: 0.9750\n",
      "Epoch 493/500\n",
      "12/12 [==============================] - 0s 2ms/step - loss: 0.0822 - accuracy: 0.9750\n",
      "Epoch 494/500\n",
      "12/12 [==============================] - 0s 7ms/step - loss: 0.0823 - accuracy: 0.9750\n",
      "Epoch 495/500\n",
      "12/12 [==============================] - 0s 4ms/step - loss: 0.0818 - accuracy: 0.9750\n",
      "Epoch 496/500\n",
      "12/12 [==============================] - 0s 3ms/step - loss: 0.0814 - accuracy: 0.9750\n",
      "Epoch 497/500\n",
      "12/12 [==============================] - 0s 6ms/step - loss: 0.0812 - accuracy: 0.9750\n",
      "Epoch 498/500\n",
      "12/12 [==============================] - 0s 6ms/step - loss: 0.0811 - accuracy: 0.9750\n",
      "Epoch 499/500\n",
      "12/12 [==============================] - 0s 4ms/step - loss: 0.0807 - accuracy: 0.9750\n",
      "Epoch 500/500\n",
      "12/12 [==============================] - 0s 4ms/step - loss: 0.0805 - accuracy: 0.9750\n"
     ]
    },
    {
     "data": {
      "text/plain": [
       "<keras.src.callbacks.History at 0x20f033dea00>"
      ]
     },
     "execution_count": 15,
     "metadata": {},
     "output_type": "execute_result"
    }
   ],
   "source": [
    "# training model\n",
    "\n",
    "nn_clf.compile(\n",
    "  optimizer= # YOUR CODE HERE \n",
    "  loss=# YOUR CODE HERE\n",
    "  metrics=# YOUR CODE HERE\n",
    ")\n",
    "\n",
    "nn_clf.fit(train_ds, epochs=epochs)"
   ]
  },
  {
   "cell_type": "code",
   "execution_count": 16,
   "metadata": {},
   "outputs": [
    {
     "name": "stdout",
     "output_type": "stream",
     "text": [
      "3/3 [==============================] - 0s 4ms/step - loss: 0.1200 - accuracy: 0.9667\n"
     ]
    },
    {
     "data": {
      "text/plain": [
       "[0.12000055611133575, 0.9666666388511658]"
      ]
     },
     "metadata": {},
     "output_type": "display_data"
    }
   ],
   "source": [
    "display(nn_clf.evaluate(test_ds))\n",
    "\n",
    "# prediksi dengan NN\n",
    "y_nn = [res.argmax() for res in nn_clf.predict(test_ds, verbose=0)]"
   ]
  },
  {
   "cell_type": "markdown",
   "metadata": {},
   "source": [
    "# Evaluasi Model"
   ]
  },
  {
   "cell_type": "code",
   "execution_count": 17,
   "metadata": {},
   "outputs": [
    {
     "name": "stdout",
     "output_type": "stream",
     "text": [
      "Akurasi Model Decision Tree: 96.67%\n",
      "Akurasi Model Decision SVM: 96.67%\n",
      "Akurasi Model Decision Neural Network: 96.67%\n"
     ]
    }
   ],
   "source": [
    "print(f\"Akurasi Model Decision Tree: {accuracy_score(y_test, y_dt)*100:.2f}%\")\n",
    "print(f\"Akurasi Model Decision SVM: {accuracy_score(y_test, y_svm)*100:.2f}%\")\n",
    "print(f\"Akurasi Model Decision Neural Network: {accuracy_score(y_test, y_nn)*100:.2f}%\")"
   ]
  },
  {
   "cell_type": "code",
   "execution_count": 18,
   "metadata": {},
   "outputs": [
    {
     "data": {
      "image/png": "[encoded data removed]",
      "text/plain": [
       "<Figure size 600x400 with 1 Axes>"
      ]
     },
     "metadata": {},
     "output_type": "display_data"
    },
    {
     "data": {
      "image/png": "[encoded data removed]",
      "text/plain": [
       "<Figure size 600x400 with 1 Axes>"
      ]
     },
     "metadata": {},
     "output_type": "display_data"
    },
    {
     "data": {
      "image/png": "[encoded data removed]",
      "text/plain": [
       "<Figure size 600x400 with 1 Axes>"
      ]
     },
     "metadata": {},
     "output_type": "display_data"
    }
   ],
   "source": [
    "def plot_confusion_matrix(y_true: List[Any], y_pred: List[Any], title: str) -> None:\n",
    "    \"\"\"\n",
    "    Plot matriks kebingungan (confusion matrix).\n",
    "\n",
    "    Parameters:\n",
    "    - y_true (List): List yang berisi nilai sebenarnya.\n",
    "    - y_pred (List): List yang berisi nilai prediksi.\n",
    "    - title (str): Judul untuk plot.\n",
    "\n",
    "    Returns:\n",
    "    - None\n",
    "    \"\"\"\n",
    "    cm = confusion_matrix(y_true, y_pred)\n",
    "    decoded_labels = le.inverse_transform(range(len(cm)))\n",
    "    plt.figure(figsize=(6, 4))\n",
    "    sns.heatmap(cm, annot=True, fmt='d', cmap='Blues', \n",
    "                cbar=False, xticklabels=decoded_labels, \n",
    "                yticklabels=decoded_labels)\n",
    "    plt.xlabel('Prediksi')\n",
    "    plt.ylabel('Label')\n",
    "    plt.title(title)\n",
    "    plt.show()\n",
    "\n",
    "# Display confusion matrix for each model\n",
    "plot_confusion_matrix(y_test, y_dt, 'Confusion Matrix - Decision Tree')\n",
    "plot_confusion_matrix(y_test, y_svm, 'Confusion Matrix - SVM')\n",
    "plot_confusion_matrix(y_test, y_nn, 'Confusion Matrix - Neural Network')"
   ]
  },
  {
   "cell_type": "code",
   "execution_count": 19,
   "metadata": {},
   "outputs": [
    {
     "data": {
      "text/plain": [
       "(array([17.75133333,  5.76783333]), array([12.17991656, 22.27010031]))"
      ]
     },
     "execution_count": 19,
     "metadata": {},
     "output_type": "execute_result"
    }
   ],
   "source": [
    "data_pipeline[\"scaler\"][\"scaler\"].mean_ , data_pipeline[\"scaler\"][\"scaler\"].var_ "
   ]
  },
  {
   "cell_type": "markdown",
   "metadata": {},
   "source": [
    "# Analisa Model"
   ]
  },
  {
   "cell_type": "code",
   "execution_count": 20,
   "metadata": {},
   "outputs": [
    {
     "data": {
      "text/html": [
       "<div>\n",
       "<style scoped>\n",
       "    .dataframe tbody tr th:only-of-type {\n",
       "        vertical-align: middle;\n",
       "    }\n",
       "\n",
       "    .dataframe tbody tr th {\n",
       "        vertical-align: top;\n",
       "    }\n",
       "\n",
       "    .dataframe thead th {\n",
       "        text-align: right;\n",
       "    }\n",
       "</style>\n",
       "<table border=\"1\" class=\"dataframe\">\n",
       "  <thead>\n",
       "    <tr style=\"text-align: right;\">\n",
       "      <th></th>\n",
       "      <th>sepal_length</th>\n",
       "      <th>sepal_width</th>\n",
       "      <th>petal_length</th>\n",
       "      <th>petal_width</th>\n",
       "      <th>label</th>\n",
       "      <th>prediksi</th>\n",
       "      <th>prediksi_benar</th>\n",
       "    </tr>\n",
       "  </thead>\n",
       "  <tbody>\n",
       "    <tr>\n",
       "      <th>122</th>\n",
       "      <td>7.7</td>\n",
       "      <td>2.8</td>\n",
       "      <td>6.7</td>\n",
       "      <td>2.0</td>\n",
       "      <td>2</td>\n",
       "      <td>2</td>\n",
       "      <td>1</td>\n",
       "    </tr>\n",
       "    <tr>\n",
       "      <th>142</th>\n",
       "      <td>5.8</td>\n",
       "      <td>2.7</td>\n",
       "      <td>5.1</td>\n",
       "      <td>1.9</td>\n",
       "      <td>2</td>\n",
       "      <td>2</td>\n",
       "      <td>1</td>\n",
       "    </tr>\n",
       "    <tr>\n",
       "      <th>149</th>\n",
       "      <td>5.9</td>\n",
       "      <td>3.0</td>\n",
       "      <td>5.1</td>\n",
       "      <td>1.8</td>\n",
       "      <td>2</td>\n",
       "      <td>2</td>\n",
       "      <td>1</td>\n",
       "    </tr>\n",
       "    <tr>\n",
       "      <th>73</th>\n",
       "      <td>6.1</td>\n",
       "      <td>2.8</td>\n",
       "      <td>4.7</td>\n",
       "      <td>1.2</td>\n",
       "      <td>1</td>\n",
       "      <td>1</td>\n",
       "      <td>1</td>\n",
       "    </tr>\n",
       "    <tr>\n",
       "      <th>83</th>\n",
       "      <td>6.0</td>\n",
       "      <td>2.7</td>\n",
       "      <td>5.1</td>\n",
       "      <td>1.6</td>\n",
       "      <td>1</td>\n",
       "      <td>2</td>\n",
       "      <td>0</td>\n",
       "    </tr>\n",
       "    <tr>\n",
       "      <th>19</th>\n",
       "      <td>5.1</td>\n",
       "      <td>3.8</td>\n",
       "      <td>1.5</td>\n",
       "      <td>0.3</td>\n",
       "      <td>0</td>\n",
       "      <td>0</td>\n",
       "      <td>1</td>\n",
       "    </tr>\n",
       "    <tr>\n",
       "      <th>137</th>\n",
       "      <td>6.4</td>\n",
       "      <td>3.1</td>\n",
       "      <td>5.5</td>\n",
       "      <td>1.8</td>\n",
       "      <td>2</td>\n",
       "      <td>2</td>\n",
       "      <td>1</td>\n",
       "    </tr>\n",
       "    <tr>\n",
       "      <th>18</th>\n",
       "      <td>5.7</td>\n",
       "      <td>3.8</td>\n",
       "      <td>1.7</td>\n",
       "      <td>0.3</td>\n",
       "      <td>0</td>\n",
       "      <td>0</td>\n",
       "      <td>1</td>\n",
       "    </tr>\n",
       "    <tr>\n",
       "      <th>63</th>\n",
       "      <td>6.1</td>\n",
       "      <td>2.9</td>\n",
       "      <td>4.7</td>\n",
       "      <td>1.4</td>\n",
       "      <td>1</td>\n",
       "      <td>1</td>\n",
       "      <td>1</td>\n",
       "    </tr>\n",
       "    <tr>\n",
       "      <th>107</th>\n",
       "      <td>7.3</td>\n",
       "      <td>2.9</td>\n",
       "      <td>6.3</td>\n",
       "      <td>1.8</td>\n",
       "      <td>2</td>\n",
       "      <td>2</td>\n",
       "      <td>1</td>\n",
       "    </tr>\n",
       "    <tr>\n",
       "      <th>43</th>\n",
       "      <td>5.0</td>\n",
       "      <td>3.5</td>\n",
       "      <td>1.6</td>\n",
       "      <td>0.6</td>\n",
       "      <td>0</td>\n",
       "      <td>0</td>\n",
       "      <td>1</td>\n",
       "    </tr>\n",
       "    <tr>\n",
       "      <th>79</th>\n",
       "      <td>5.7</td>\n",
       "      <td>2.6</td>\n",
       "      <td>3.5</td>\n",
       "      <td>1.0</td>\n",
       "      <td>1</td>\n",
       "      <td>1</td>\n",
       "      <td>1</td>\n",
       "    </tr>\n",
       "    <tr>\n",
       "      <th>81</th>\n",
       "      <td>5.5</td>\n",
       "      <td>2.4</td>\n",
       "      <td>3.7</td>\n",
       "      <td>1.0</td>\n",
       "      <td>1</td>\n",
       "      <td>1</td>\n",
       "      <td>1</td>\n",
       "    </tr>\n",
       "    <tr>\n",
       "      <th>9</th>\n",
       "      <td>4.9</td>\n",
       "      <td>3.1</td>\n",
       "      <td>1.5</td>\n",
       "      <td>0.1</td>\n",
       "      <td>0</td>\n",
       "      <td>0</td>\n",
       "      <td>1</td>\n",
       "    </tr>\n",
       "    <tr>\n",
       "      <th>144</th>\n",
       "      <td>6.7</td>\n",
       "      <td>3.3</td>\n",
       "      <td>5.7</td>\n",
       "      <td>2.5</td>\n",
       "      <td>2</td>\n",
       "      <td>2</td>\n",
       "      <td>1</td>\n",
       "    </tr>\n",
       "    <tr>\n",
       "      <th>61</th>\n",
       "      <td>5.9</td>\n",
       "      <td>3.0</td>\n",
       "      <td>4.2</td>\n",
       "      <td>1.5</td>\n",
       "      <td>1</td>\n",
       "      <td>1</td>\n",
       "      <td>1</td>\n",
       "    </tr>\n",
       "    <tr>\n",
       "      <th>23</th>\n",
       "      <td>5.1</td>\n",
       "      <td>3.3</td>\n",
       "      <td>1.7</td>\n",
       "      <td>0.5</td>\n",
       "      <td>0</td>\n",
       "      <td>0</td>\n",
       "      <td>1</td>\n",
       "    </tr>\n",
       "    <tr>\n",
       "      <th>95</th>\n",
       "      <td>5.7</td>\n",
       "      <td>3.0</td>\n",
       "      <td>4.2</td>\n",
       "      <td>1.2</td>\n",
       "      <td>1</td>\n",
       "      <td>1</td>\n",
       "      <td>1</td>\n",
       "    </tr>\n",
       "    <tr>\n",
       "      <th>41</th>\n",
       "      <td>4.5</td>\n",
       "      <td>2.3</td>\n",
       "      <td>1.3</td>\n",
       "      <td>0.3</td>\n",
       "      <td>0</td>\n",
       "      <td>0</td>\n",
       "      <td>1</td>\n",
       "    </tr>\n",
       "    <tr>\n",
       "      <th>141</th>\n",
       "      <td>6.9</td>\n",
       "      <td>3.1</td>\n",
       "      <td>5.1</td>\n",
       "      <td>2.3</td>\n",
       "      <td>2</td>\n",
       "      <td>2</td>\n",
       "      <td>1</td>\n",
       "    </tr>\n",
       "    <tr>\n",
       "      <th>39</th>\n",
       "      <td>5.1</td>\n",
       "      <td>3.4</td>\n",
       "      <td>1.5</td>\n",
       "      <td>0.2</td>\n",
       "      <td>0</td>\n",
       "      <td>0</td>\n",
       "      <td>1</td>\n",
       "    </tr>\n",
       "    <tr>\n",
       "      <th>56</th>\n",
       "      <td>6.3</td>\n",
       "      <td>3.3</td>\n",
       "      <td>4.7</td>\n",
       "      <td>1.6</td>\n",
       "      <td>1</td>\n",
       "      <td>1</td>\n",
       "      <td>1</td>\n",
       "    </tr>\n",
       "    <tr>\n",
       "      <th>48</th>\n",
       "      <td>5.3</td>\n",
       "      <td>3.7</td>\n",
       "      <td>1.5</td>\n",
       "      <td>0.2</td>\n",
       "      <td>0</td>\n",
       "      <td>0</td>\n",
       "      <td>1</td>\n",
       "    </tr>\n",
       "    <tr>\n",
       "      <th>37</th>\n",
       "      <td>4.9</td>\n",
       "      <td>3.1</td>\n",
       "      <td>1.5</td>\n",
       "      <td>0.1</td>\n",
       "      <td>0</td>\n",
       "      <td>0</td>\n",
       "      <td>1</td>\n",
       "    </tr>\n",
       "    <tr>\n",
       "      <th>147</th>\n",
       "      <td>6.5</td>\n",
       "      <td>3.0</td>\n",
       "      <td>5.2</td>\n",
       "      <td>2.0</td>\n",
       "      <td>2</td>\n",
       "      <td>2</td>\n",
       "      <td>1</td>\n",
       "    </tr>\n",
       "    <tr>\n",
       "      <th>51</th>\n",
       "      <td>6.4</td>\n",
       "      <td>3.2</td>\n",
       "      <td>4.5</td>\n",
       "      <td>1.5</td>\n",
       "      <td>1</td>\n",
       "      <td>1</td>\n",
       "      <td>1</td>\n",
       "    </tr>\n",
       "    <tr>\n",
       "      <th>126</th>\n",
       "      <td>6.2</td>\n",
       "      <td>2.8</td>\n",
       "      <td>4.8</td>\n",
       "      <td>1.8</td>\n",
       "      <td>2</td>\n",
       "      <td>2</td>\n",
       "      <td>1</td>\n",
       "    </tr>\n",
       "    <tr>\n",
       "      <th>36</th>\n",
       "      <td>5.5</td>\n",
       "      <td>3.5</td>\n",
       "      <td>1.3</td>\n",
       "      <td>0.2</td>\n",
       "      <td>0</td>\n",
       "      <td>0</td>\n",
       "      <td>1</td>\n",
       "    </tr>\n",
       "    <tr>\n",
       "      <th>72</th>\n",
       "      <td>6.3</td>\n",
       "      <td>2.5</td>\n",
       "      <td>4.9</td>\n",
       "      <td>1.5</td>\n",
       "      <td>1</td>\n",
       "      <td>1</td>\n",
       "      <td>1</td>\n",
       "    </tr>\n",
       "    <tr>\n",
       "      <th>136</th>\n",
       "      <td>6.3</td>\n",
       "      <td>3.4</td>\n",
       "      <td>5.6</td>\n",
       "      <td>2.4</td>\n",
       "      <td>2</td>\n",
       "      <td>2</td>\n",
       "      <td>1</td>\n",
       "    </tr>\n",
       "  </tbody>\n",
       "</table>\n",
       "</div>"
      ],
      "text/plain": [
       "     sepal_length  sepal_width  petal_length  petal_width  label  prediksi  \\\n",
       "122           7.7          2.8           6.7          2.0      2         2   \n",
       "142           5.8          2.7           5.1          1.9      2         2   \n",
       "149           5.9          3.0           5.1          1.8      2         2   \n",
       "73            6.1          2.8           4.7          1.2      1         1   \n",
       "83            6.0          2.7           5.1          1.6      1         2   \n",
       "19            5.1          3.8           1.5          0.3      0         0   \n",
       "137           6.4          3.1           5.5          1.8      2         2   \n",
       "18            5.7          3.8           1.7          0.3      0         0   \n",
       "63            6.1          2.9           4.7          1.4      1         1   \n",
       "107           7.3          2.9           6.3          1.8      2         2   \n",
       "43            5.0          3.5           1.6          0.6      0         0   \n",
       "79            5.7          2.6           3.5          1.0      1         1   \n",
       "81            5.5          2.4           3.7          1.0      1         1   \n",
       "9             4.9          3.1           1.5          0.1      0         0   \n",
       "144           6.7          3.3           5.7          2.5      2         2   \n",
       "61            5.9          3.0           4.2          1.5      1         1   \n",
       "23            5.1          3.3           1.7          0.5      0         0   \n",
       "95            5.7          3.0           4.2          1.2      1         1   \n",
       "41            4.5          2.3           1.3          0.3      0         0   \n",
       "141           6.9          3.1           5.1          2.3      2         2   \n",
       "39            5.1          3.4           1.5          0.2      0         0   \n",
       "56            6.3          3.3           4.7          1.6      1         1   \n",
       "48            5.3          3.7           1.5          0.2      0         0   \n",
       "37            4.9          3.1           1.5          0.1      0         0   \n",
       "147           6.5          3.0           5.2          2.0      2         2   \n",
       "51            6.4          3.2           4.5          1.5      1         1   \n",
       "126           6.2          2.8           4.8          1.8      2         2   \n",
       "36            5.5          3.5           1.3          0.2      0         0   \n",
       "72            6.3          2.5           4.9          1.5      1         1   \n",
       "136           6.3          3.4           5.6          2.4      2         2   \n",
       "\n",
       "     prediksi_benar  \n",
       "122               1  \n",
       "142               1  \n",
       "149               1  \n",
       "73                1  \n",
       "83                0  \n",
       "19                1  \n",
       "137               1  \n",
       "18                1  \n",
       "63                1  \n",
       "107               1  \n",
       "43                1  \n",
       "79                1  \n",
       "81                1  \n",
       "9                 1  \n",
       "144               1  \n",
       "61                1  \n",
       "23                1  \n",
       "95                1  \n",
       "41                1  \n",
       "141               1  \n",
       "39                1  \n",
       "56                1  \n",
       "48                1  \n",
       "37                1  \n",
       "147               1  \n",
       "51                1  \n",
       "126               1  \n",
       "36                1  \n",
       "72                1  \n",
       "136               1  "
      ]
     },
     "execution_count": 20,
     "metadata": {},
     "output_type": "execute_result"
    }
   ],
   "source": [
    "data_pred = X_test.copy()\n",
    "data_pred[\"label\"] = y_test \n",
    "data_pred[\"prediksi\"] = # YOUR CODE HERE\n",
    "data_pred[\"prediksi_benar\"] = data_pred.apply(lambda d: 1 if d.label==d.prediksi else 0, axis=1)\n",
    "data_pred"
   ]
  },
  {
   "cell_type": "code",
   "execution_count": 21,
   "metadata": {},
   "outputs": [
    {
     "data": {
      "application/vnd.plotly.v1+json": {
       "config": {
        "plotlyServerURL": "https://plot.ly"
       },
       "data": [
        {
         "dimensions": [
          {
           "label": "prediksi_benar",
           "values": [
            1,
            1,
            1,
            1,
            0,
            1,
            1,
            1,
            1,
            1,
            1,
            1,
            1,
            1,
            1,
            1,
            1,
            1,
            1,
            1,
            1,
            1,
            1,
            1,
            1,
            1,
            1,
            1,
            1,
            1
           ]
          },
          {
           "label": "sepal_width",
           "values": [
            2.8,
            2.7,
            3,
            2.8,
            2.7,
            3.8,
            3.1,
            3.8,
            2.9,
            2.9,
            3.5,
            2.6,
            2.4,
            3.1,
            3.3,
            3,
            3.3,
            3,
            2.3,
            3.1,
            3.4,
            3.3,
            3.7,
            3.1,
            3,
            3.2,
            2.8,
            3.5,
            2.5,
            3.4
           ]
          },
          {
           "label": "sepal_length",
           "values": [
            7.7,
            5.8,
            5.9,
            6.1,
            6,
            5.1,
            6.4,
            5.7,
            6.1,
            7.3,
            5,
            5.7,
            5.5,
            4.9,
            6.7,
            5.9,
            5.1,
            5.7,
            4.5,
            6.9,
            5.1,
            6.3,
            5.3,
            4.9,
            6.5,
            6.4,
            6.2,
            5.5,
            6.3,
            6.3
           ]
          },
          {
           "label": "petal_width",
           "values": [
            2,
            1.9,
            1.8,
            1.2,
            1.6,
            0.3,
            1.8,
            0.3,
            1.4,
            1.8,
            0.6,
            1,
            1,
            0.1,
            2.5,
            1.5,
            0.5,
            1.2,
            0.3,
            2.3,
            0.2,
            1.6,
            0.2,
            0.1,
            2,
            1.5,
            1.8,
            0.2,
            1.5,
            2.4
           ]
          },
          {
           "label": "petal_length",
           "values": [
            6.7,
            5.1,
            5.1,
            4.7,
            5.1,
            1.5,
            5.5,
            1.7,
            4.7,
            6.3,
            1.6,
            3.5,
            3.7,
            1.5,
            5.7,
            4.2,
            1.7,
            4.2,
            1.3,
            5.1,
            1.5,
            4.7,
            1.5,
            1.5,
            5.2,
            4.5,
            4.8,
            1.3,
            4.9,
            5.6
           ]
          },
          {
           "label": "label",
           "values": [
            2,
            2,
            2,
            1,
            1,
            0,
            2,
            0,
            1,
            2,
            0,
            1,
            1,
            0,
            2,
            1,
            0,
            1,
            0,
            2,
            0,
            1,
            0,
            0,
            2,
            1,
            2,
            0,
            1,
            2
           ]
          }
         ],
         "domain": {
          "x": [
           0,
           1
          ],
          "y": [
           0,
           1
          ]
         },
         "line": {
          "color": [
           2,
           2,
           2,
           1,
           2,
           0,
           2,
           0,
           1,
           2,
           0,
           1,
           1,
           0,
           2,
           1,
           0,
           1,
           0,
           2,
           0,
           1,
           0,
           0,
           2,
           1,
           2,
           0,
           1,
           2
          ],
          "coloraxis": "coloraxis"
         },
         "name": "",
         "type": "parcoords"
        }
       ],
       "layout": {
        "coloraxis": {
         "colorbar": {
          "title": {
           "text": "prediksi"
          }
         },
         "colorscale": [
          [
           0,
           "#0d0887"
          ],
          [
           0.1111111111111111,
           "#46039f"
          ],
          [
           0.2222222222222222,
           "#7201a8"
          ],
          [
           0.3333333333333333,
           "#9c179e"
          ],
          [
           0.4444444444444444,
           "#bd3786"
          ],
          [
           0.5555555555555556,
           "#d8576b"
          ],
          [
           0.6666666666666666,
           "#ed7953"
          ],
          [
           0.7777777777777778,
           "#fb9f3a"
          ],
          [
           0.8888888888888888,
           "#fdca26"
          ],
          [
           1,
           "#f0f921"
          ]
         ]
        },
        "font": {
         "size": 20
        },
        "legend": {
         "tracegroupgap": 0
        },
        "margin": {
         "t": 60
        },
        "template": {
         "data": {
          "bar": [
           {
            "error_x": {
             "color": "#2a3f5f"
            },
            "error_y": {
             "color": "#2a3f5f"
            },
            "marker": {
             "line": {
              "color": "#E5ECF6",
              "width": 0.5
             },
             "pattern": {
              "fillmode": "overlay",
              "size": 10,
              "solidity": 0.2
             }
            },
            "type": "bar"
           }
          ],
          "barpolar": [
           {
            "marker": {
             "line": {
              "color": "#E5ECF6",
              "width": 0.5
             },
             "pattern": {
              "fillmode": "overlay",
              "size": 10,
              "solidity": 0.2
             }
            },
            "type": "barpolar"
           }
          ],
          "carpet": [
           {
            "aaxis": {
             "endlinecolor": "#2a3f5f",
             "gridcolor": "white",
             "linecolor": "white",
             "minorgridcolor": "white",
             "startlinecolor": "#2a3f5f"
            },
            "baxis": {
             "endlinecolor": "#2a3f5f",
             "gridcolor": "white",
             "linecolor": "white",
             "minorgridcolor": "white",
             "startlinecolor": "#2a3f5f"
            },
            "type": "carpet"
           }
          ],
          "choropleth": [
           {
            "colorbar": {
             "outlinewidth": 0,
             "ticks": ""
            },
            "type": "choropleth"
           }
          ],
          "contour": [
           {
            "colorbar": {
             "outlinewidth": 0,
             "ticks": ""
            },
            "colorscale": [
             [
              0,
              "#0d0887"
             ],
             [
              0.1111111111111111,
              "#46039f"
             ],
             [
              0.2222222222222222,
              "#7201a8"
             ],
             [
              0.3333333333333333,
              "#9c179e"
             ],
             [
              0.4444444444444444,
              "#bd3786"
             ],
             [
              0.5555555555555556,
              "#d8576b"
             ],
             [
              0.6666666666666666,
              "#ed7953"
             ],
             [
              0.7777777777777778,
              "#fb9f3a"
             ],
             [
              0.8888888888888888,
              "#fdca26"
             ],
             [
              1,
              "#f0f921"
             ]
            ],
            "type": "contour"
           }
          ],
          "contourcarpet": [
           {
            "colorbar": {
             "outlinewidth": 0,
             "ticks": ""
            },
            "type": "contourcarpet"
           }
          ],
          "heatmap": [
           {
            "colorbar": {
             "outlinewidth": 0,
             "ticks": ""
            },
            "colorscale": [
             [
              0,
              "#0d0887"
             ],
             [
              0.1111111111111111,
              "#46039f"
             ],
             [
              0.2222222222222222,
              "#7201a8"
             ],
             [
              0.3333333333333333,
              "#9c179e"
             ],
             [
              0.4444444444444444,
              "#bd3786"
             ],
             [
              0.5555555555555556,
              "#d8576b"
             ],
             [
              0.6666666666666666,
              "#ed7953"
             ],
             [
              0.7777777777777778,
              "#fb9f3a"
             ],
             [
              0.8888888888888888,
              "#fdca26"
             ],
             [
              1,
              "#f0f921"
             ]
            ],
            "type": "heatmap"
           }
          ],
          "heatmapgl": [
           {
            "colorbar": {
             "outlinewidth": 0,
             "ticks": ""
            },
            "colorscale": [
             [
              0,
              "#0d0887"
             ],
             [
              0.1111111111111111,
              "#46039f"
             ],
             [
              0.2222222222222222,
              "#7201a8"
             ],
             [
              0.3333333333333333,
              "#9c179e"
             ],
             [
              0.4444444444444444,
              "#bd3786"
             ],
             [
              0.5555555555555556,
              "#d8576b"
             ],
             [
              0.6666666666666666,
              "#ed7953"
             ],
             [
              0.7777777777777778,
              "#fb9f3a"
             ],
             [
              0.8888888888888888,
              "#fdca26"
             ],
             [
              1,
              "#f0f921"
             ]
            ],
            "type": "heatmapgl"
           }
          ],
          "histogram": [
           {
            "marker": {
             "pattern": {
              "fillmode": "overlay",
              "size": 10,
              "solidity": 0.2
             }
            },
            "type": "histogram"
           }
          ],
          "histogram2d": [
           {
            "colorbar": {
             "outlinewidth": 0,
             "ticks": ""
            },
            "colorscale": [
             [
              0,
              "#0d0887"
             ],
             [
              0.1111111111111111,
              "#46039f"
             ],
             [
              0.2222222222222222,
              "#7201a8"
             ],
             [
              0.3333333333333333,
              "#9c179e"
             ],
             [
              0.4444444444444444,
              "#bd3786"
             ],
             [
              0.5555555555555556,
              "#d8576b"
             ],
             [
              0.6666666666666666,
              "#ed7953"
             ],
             [
              0.7777777777777778,
              "#fb9f3a"
             ],
             [
              0.8888888888888888,
              "#fdca26"
             ],
             [
              1,
              "#f0f921"
             ]
            ],
            "type": "histogram2d"
           }
          ],
          "histogram2dcontour": [
           {
            "colorbar": {
             "outlinewidth": 0,
             "ticks": ""
            },
            "colorscale": [
             [
              0,
              "#0d0887"
             ],
             [
              0.1111111111111111,
              "#46039f"
             ],
             [
              0.2222222222222222,
              "#7201a8"
             ],
             [
              0.3333333333333333,
              "#9c179e"
             ],
             [
              0.4444444444444444,
              "#bd3786"
             ],
             [
              0.5555555555555556,
              "#d8576b"
             ],
             [
              0.6666666666666666,
              "#ed7953"
             ],
             [
              0.7777777777777778,
              "#fb9f3a"
             ],
             [
              0.8888888888888888,
              "#fdca26"
             ],
             [
              1,
              "#f0f921"
             ]
            ],
            "type": "histogram2dcontour"
           }
          ],
          "mesh3d": [
           {
            "colorbar": {
             "outlinewidth": 0,
             "ticks": ""
            },
            "type": "mesh3d"
           }
          ],
          "parcoords": [
           {
            "line": {
             "colorbar": {
              "outlinewidth": 0,
              "ticks": ""
             }
            },
            "type": "parcoords"
           }
          ],
          "pie": [
           {
            "automargin": true,
            "type": "pie"
           }
          ],
          "scatter": [
           {
            "fillpattern": {
             "fillmode": "overlay",
             "size": 10,
             "solidity": 0.2
            },
            "type": "scatter"
           }
          ],
          "scatter3d": [
           {
            "line": {
             "colorbar": {
              "outlinewidth": 0,
              "ticks": ""
             }
            },
            "marker": {
             "colorbar": {
              "outlinewidth": 0,
              "ticks": ""
             }
            },
            "type": "scatter3d"
           }
          ],
          "scattercarpet": [
           {
            "marker": {
             "colorbar": {
              "outlinewidth": 0,
              "ticks": ""
             }
            },
            "type": "scattercarpet"
           }
          ],
          "scattergeo": [
           {
            "marker": {
             "colorbar": {
              "outlinewidth": 0,
              "ticks": ""
             }
            },
            "type": "scattergeo"
           }
          ],
          "scattergl": [
           {
            "marker": {
             "colorbar": {
              "outlinewidth": 0,
              "ticks": ""
             }
            },
            "type": "scattergl"
           }
          ],
          "scattermapbox": [
           {
            "marker": {
             "colorbar": {
              "outlinewidth": 0,
              "ticks": ""
             }
            },
            "type": "scattermapbox"
           }
          ],
          "scatterpolar": [
           {
            "marker": {
             "colorbar": {
              "outlinewidth": 0,
              "ticks": ""
             }
            },
            "type": "scatterpolar"
           }
          ],
          "scatterpolargl": [
           {
            "marker": {
             "colorbar": {
              "outlinewidth": 0,
              "ticks": ""
             }
            },
            "type": "scatterpolargl"
           }
          ],
          "scatterternary": [
           {
            "marker": {
             "colorbar": {
              "outlinewidth": 0,
              "ticks": ""
             }
            },
            "type": "scatterternary"
           }
          ],
          "surface": [
           {
            "colorbar": {
             "outlinewidth": 0,
             "ticks": ""
            },
            "colorscale": [
             [
              0,
              "#0d0887"
             ],
             [
              0.1111111111111111,
              "#46039f"
             ],
             [
              0.2222222222222222,
              "#7201a8"
             ],
             [
              0.3333333333333333,
              "#9c179e"
             ],
             [
              0.4444444444444444,
              "#bd3786"
             ],
             [
              0.5555555555555556,
              "#d8576b"
             ],
             [
              0.6666666666666666,
              "#ed7953"
             ],
             [
              0.7777777777777778,
              "#fb9f3a"
             ],
             [
              0.8888888888888888,
              "#fdca26"
             ],
             [
              1,
              "#f0f921"
             ]
            ],
            "type": "surface"
           }
          ],
          "table": [
           {
            "cells": {
             "fill": {
              "color": "#EBF0F8"
             },
             "line": {
              "color": "white"
             }
            },
            "header": {
             "fill": {
              "color": "#C8D4E3"
             },
             "line": {
              "color": "white"
             }
            },
            "type": "table"
           }
          ]
         },
         "layout": {
          "annotationdefaults": {
           "arrowcolor": "#2a3f5f",
           "arrowhead": 0,
           "arrowwidth": 1
          },
          "autotypenumbers": "strict",
          "coloraxis": {
           "colorbar": {
            "outlinewidth": 0,
            "ticks": ""
           }
          },
          "colorscale": {
           "diverging": [
            [
             0,
             "#8e0152"
            ],
            [
             0.1,
             "#c51b7d"
            ],
            [
             0.2,
             "#de77ae"
            ],
            [
             0.3,
             "#f1b6da"
            ],
            [
             0.4,
             "#fde0ef"
            ],
            [
             0.5,
             "#f7f7f7"
            ],
            [
             0.6,
             "#e6f5d0"
            ],
            [
             0.7,
             "#b8e186"
            ],
            [
             0.8,
             "#7fbc41"
            ],
            [
             0.9,
             "#4d9221"
            ],
            [
             1,
             "#276419"
            ]
           ],
           "sequential": [
            [
             0,
             "#0d0887"
            ],
            [
             0.1111111111111111,
             "#46039f"
            ],
            [
             0.2222222222222222,
             "#7201a8"
            ],
            [
             0.3333333333333333,
             "#9c179e"
            ],
            [
             0.4444444444444444,
             "#bd3786"
            ],
            [
             0.5555555555555556,
             "#d8576b"
            ],
            [
             0.6666666666666666,
             "#ed7953"
            ],
            [
             0.7777777777777778,
             "#fb9f3a"
            ],
            [
             0.8888888888888888,
             "#fdca26"
            ],
            [
             1,
             "#f0f921"
            ]
           ],
           "sequentialminus": [
            [
             0,
             "#0d0887"
            ],
            [
             0.1111111111111111,
             "#46039f"
            ],
            [
             0.2222222222222222,
             "#7201a8"
            ],
            [
             0.3333333333333333,
             "#9c179e"
            ],
            [
             0.4444444444444444,
             "#bd3786"
            ],
            [
             0.5555555555555556,
             "#d8576b"
            ],
            [
             0.6666666666666666,
             "#ed7953"
            ],
            [
             0.7777777777777778,
             "#fb9f3a"
            ],
            [
             0.8888888888888888,
             "#fdca26"
            ],
            [
             1,
             "#f0f921"
            ]
           ]
          },
          "colorway": [
           "#636efa",
           "#EF553B",
           "#00cc96",
           "#ab63fa",
           "#FFA15A",
           "#19d3f3",
           "#FF6692",
           "#B6E880",
           "#FF97FF",
           "#FECB52"
          ],
          "font": {
           "color": "#2a3f5f"
          },
          "geo": {
           "bgcolor": "white",
           "lakecolor": "white",
           "landcolor": "#E5ECF6",
           "showlakes": true,
           "showland": true,
           "subunitcolor": "white"
          },
          "hoverlabel": {
           "align": "left"
          },
          "hovermode": "closest",
          "mapbox": {
           "style": "light"
          },
          "paper_bgcolor": "white",
          "plot_bgcolor": "#E5ECF6",
          "polar": {
           "angularaxis": {
            "gridcolor": "white",
            "linecolor": "white",
            "ticks": ""
           },
           "bgcolor": "#E5ECF6",
           "radialaxis": {
            "gridcolor": "white",
            "linecolor": "white",
            "ticks": ""
           }
          },
          "scene": {
           "xaxis": {
            "backgroundcolor": "#E5ECF6",
            "gridcolor": "white",
            "gridwidth": 2,
            "linecolor": "white",
            "showbackground": true,
            "ticks": "",
            "zerolinecolor": "white"
           },
           "yaxis": {
            "backgroundcolor": "#E5ECF6",
            "gridcolor": "white",
            "gridwidth": 2,
            "linecolor": "white",
            "showbackground": true,
            "ticks": "",
            "zerolinecolor": "white"
           },
           "zaxis": {
            "backgroundcolor": "#E5ECF6",
            "gridcolor": "white",
            "gridwidth": 2,
            "linecolor": "white",
            "showbackground": true,
            "ticks": "",
            "zerolinecolor": "white"
           }
          },
          "shapedefaults": {
           "line": {
            "color": "#2a3f5f"
           }
          },
          "ternary": {
           "aaxis": {
            "gridcolor": "white",
            "linecolor": "white",
            "ticks": ""
           },
           "baxis": {
            "gridcolor": "white",
            "linecolor": "white",
            "ticks": ""
           },
           "bgcolor": "#E5ECF6",
           "caxis": {
            "gridcolor": "white",
            "linecolor": "white",
            "ticks": ""
           }
          },
          "title": {
           "x": 0.05
          },
          "xaxis": {
           "automargin": true,
           "gridcolor": "white",
           "linecolor": "white",
           "ticks": "",
           "title": {
            "standoff": 15
           },
           "zerolinecolor": "white",
           "zerolinewidth": 2
          },
          "yaxis": {
           "automargin": true,
           "gridcolor": "white",
           "linecolor": "white",
           "ticks": "",
           "title": {
            "standoff": 15
           },
           "zerolinecolor": "white",
           "zerolinewidth": 2
          }
         }
        }
       }
      }
     },
     "metadata": {},
     "output_type": "display_data"
    }
   ],
   "source": [
    "fig = px.parallel_coordinates(data_frame=data_pred,\n",
    "                              dimensions=['prediksi_benar',\n",
    "                                          'sepal_width', \n",
    "                                          'sepal_length', \n",
    "                                          'petal_width', \n",
    "                                          'petal_length', \n",
    "                                          'label'],\n",
    "                              color=\"prediksi\", \n",
    "                             )\n",
    "fig.update_layout(font=dict(size=20))\n",
    "\n",
    "fig.show()"
   ]
  },
  {
   "cell_type": "code",
   "execution_count": 22,
   "metadata": {},
   "outputs": [
    {
     "data": {
      "text/html": [
       "<style>#sk-container-id-1 {color: black;background-color: white;}#sk-container-id-1 pre{padding: 0;}#sk-container-id-1 div.sk-toggleable {background-color: white;}#sk-container-id-1 label.sk-toggleable__label {cursor: pointer;display: block;width: 100%;margin-bottom: 0;padding: 0.3em;box-sizing: border-box;text-align: center;}#sk-container-id-1 label.sk-toggleable__label-arrow:before {content: \"▸\";float: left;margin-right: 0.25em;color: #696969;}#sk-container-id-1 label.sk-toggleable__label-arrow:hover:before {color: black;}#sk-container-id-1 div.sk-estimator:hover label.sk-toggleable__label-arrow:before {color: black;}#sk-container-id-1 div.sk-toggleable__content {max-height: 0;max-width: 0;overflow: hidden;text-align: left;background-color: #f0f8ff;}#sk-container-id-1 div.sk-toggleable__content pre {margin: 0.2em;color: black;border-radius: 0.25em;background-color: #f0f8ff;}#sk-container-id-1 input.sk-toggleable__control:checked~div.sk-toggleable__content {max-height: 200px;max-width: 100%;overflow: auto;}#sk-container-id-1 input.sk-toggleable__control:checked~label.sk-toggleable__label-arrow:before {content: \"▾\";}#sk-container-id-1 div.sk-estimator input.sk-toggleable__control:checked~label.sk-toggleable__label {background-color: #d4ebff;}#sk-container-id-1 div.sk-label input.sk-toggleable__control:checked~label.sk-toggleable__label {background-color: #d4ebff;}#sk-container-id-1 input.sk-hidden--visually {border: 0;clip: rect(1px 1px 1px 1px);clip: rect(1px, 1px, 1px, 1px);height: 1px;margin: -1px;overflow: hidden;padding: 0;position: absolute;width: 1px;}#sk-container-id-1 div.sk-estimator {font-family: monospace;background-color: #f0f8ff;border: 1px dotted black;border-radius: 0.25em;box-sizing: border-box;margin-bottom: 0.5em;}#sk-container-id-1 div.sk-estimator:hover {background-color: #d4ebff;}#sk-container-id-1 div.sk-parallel-item::after {content: \"\";width: 100%;border-bottom: 1px solid gray;flex-grow: 1;}#sk-container-id-1 div.sk-label:hover label.sk-toggleable__label {background-color: #d4ebff;}#sk-container-id-1 div.sk-serial::before {content: \"\";position: absolute;border-left: 1px solid gray;box-sizing: border-box;top: 0;bottom: 0;left: 50%;z-index: 0;}#sk-container-id-1 div.sk-serial {display: flex;flex-direction: column;align-items: center;background-color: white;padding-right: 0.2em;padding-left: 0.2em;position: relative;}#sk-container-id-1 div.sk-item {position: relative;z-index: 1;}#sk-container-id-1 div.sk-parallel {display: flex;align-items: stretch;justify-content: center;background-color: white;position: relative;}#sk-container-id-1 div.sk-item::before, #sk-container-id-1 div.sk-parallel-item::before {content: \"\";position: absolute;border-left: 1px solid gray;box-sizing: border-box;top: 0;bottom: 0;left: 50%;z-index: -1;}#sk-container-id-1 div.sk-parallel-item {display: flex;flex-direction: column;z-index: 1;position: relative;background-color: white;}#sk-container-id-1 div.sk-parallel-item:first-child::after {align-self: flex-end;width: 50%;}#sk-container-id-1 div.sk-parallel-item:last-child::after {align-self: flex-start;width: 50%;}#sk-container-id-1 div.sk-parallel-item:only-child::after {width: 0;}#sk-container-id-1 div.sk-dashed-wrapped {border: 1px dashed gray;margin: 0 0.4em 0.5em 0.4em;box-sizing: border-box;padding-bottom: 0.4em;background-color: white;}#sk-container-id-1 div.sk-label label {font-family: monospace;font-weight: bold;display: inline-block;line-height: 1.2em;}#sk-container-id-1 div.sk-label-container {text-align: center;}#sk-container-id-1 div.sk-container {/* jupyter's `normalize.less` sets `[hidden] { display: none; }` but bootstrap.min.css set `[hidden] { display: none !important; }` so we also need the `!important` here to be able to override the default hidden behavior on the sphinx rendered scikit-learn.org. See: https://github.com/scikit-learn/scikit-learn/issues/21755 */display: inline-block !important;position: relative;}#sk-container-id-1 div.sk-text-repr-fallback {display: none;}</style><div id=\"sk-container-id-1\" class=\"sk-top-container\"><div class=\"sk-text-repr-fallback\"><pre>Pipeline(steps=[(&#x27;data_pipeline&#x27;,\n",
       "                 Pipeline(steps=[(&#x27;ekstraksi_fitur&#x27;,\n",
       "                                  ColumnTransformer(transformers=[(&#x27;sepal&#x27;,\n",
       "                                                                   FunctionTransformer(func=&lt;function ekstrak_sepal at 0x0000020F7C0F30D0&gt;),\n",
       "                                                                   [&#x27;sepal_length&#x27;,\n",
       "                                                                    &#x27;sepal_width&#x27;]),\n",
       "                                                                  (&#x27;petal&#x27;,\n",
       "                                                                   FunctionTransformer(func=&lt;function ekstrak_petal at 0x0000020F7C0F35E0&gt;),\n",
       "                                                                   [&#x27;petal_length&#x27;,\n",
       "                                                                    &#x27;petal_width&#x27;])])),\n",
       "                                 (&#x27;scaler&#x27;,\n",
       "                                  Pipeline(steps=[(&#x27;scaler&#x27;,\n",
       "                                                   StandardScaler())]))])),\n",
       "                (&#x27;classifier&#x27;, DecisionTreeClassifier())])</pre><b>In a Jupyter environment, please rerun this cell to show the HTML representation or trust the notebook. <br />On GitHub, the HTML representation is unable to render, please try loading this page with nbviewer.org.</b></div><div class=\"sk-container\" hidden><div class=\"sk-item sk-dashed-wrapped\"><div class=\"sk-label-container\"><div class=\"sk-label sk-toggleable\"><input class=\"sk-toggleable__control sk-hidden--visually\" id=\"sk-estimator-id-1\" type=\"checkbox\" ><label for=\"sk-estimator-id-1\" class=\"sk-toggleable__label sk-toggleable__label-arrow\">Pipeline</label><div class=\"sk-toggleable__content\"><pre>Pipeline(steps=[(&#x27;data_pipeline&#x27;,\n",
       "                 Pipeline(steps=[(&#x27;ekstraksi_fitur&#x27;,\n",
       "                                  ColumnTransformer(transformers=[(&#x27;sepal&#x27;,\n",
       "                                                                   FunctionTransformer(func=&lt;function ekstrak_sepal at 0x0000020F7C0F30D0&gt;),\n",
       "                                                                   [&#x27;sepal_length&#x27;,\n",
       "                                                                    &#x27;sepal_width&#x27;]),\n",
       "                                                                  (&#x27;petal&#x27;,\n",
       "                                                                   FunctionTransformer(func=&lt;function ekstrak_petal at 0x0000020F7C0F35E0&gt;),\n",
       "                                                                   [&#x27;petal_length&#x27;,\n",
       "                                                                    &#x27;petal_width&#x27;])])),\n",
       "                                 (&#x27;scaler&#x27;,\n",
       "                                  Pipeline(steps=[(&#x27;scaler&#x27;,\n",
       "                                                   StandardScaler())]))])),\n",
       "                (&#x27;classifier&#x27;, DecisionTreeClassifier())])</pre></div></div></div><div class=\"sk-serial\"><div class=\"sk-item\"><div class=\"sk-label-container\"><div class=\"sk-label sk-toggleable\"><input class=\"sk-toggleable__control sk-hidden--visually\" id=\"sk-estimator-id-2\" type=\"checkbox\" ><label for=\"sk-estimator-id-2\" class=\"sk-toggleable__label sk-toggleable__label-arrow\">data_pipeline: Pipeline</label><div class=\"sk-toggleable__content\"><pre>Pipeline(steps=[(&#x27;ekstraksi_fitur&#x27;,\n",
       "                 ColumnTransformer(transformers=[(&#x27;sepal&#x27;,\n",
       "                                                  FunctionTransformer(func=&lt;function ekstrak_sepal at 0x0000020F7C0F30D0&gt;),\n",
       "                                                  [&#x27;sepal_length&#x27;,\n",
       "                                                   &#x27;sepal_width&#x27;]),\n",
       "                                                 (&#x27;petal&#x27;,\n",
       "                                                  FunctionTransformer(func=&lt;function ekstrak_petal at 0x0000020F7C0F35E0&gt;),\n",
       "                                                  [&#x27;petal_length&#x27;,\n",
       "                                                   &#x27;petal_width&#x27;])])),\n",
       "                (&#x27;scaler&#x27;, Pipeline(steps=[(&#x27;scaler&#x27;, StandardScaler())]))])</pre></div></div></div><div class=\"sk-serial\"><div class=\"sk-item sk-dashed-wrapped\"><div class=\"sk-label-container\"><div class=\"sk-label sk-toggleable\"><input class=\"sk-toggleable__control sk-hidden--visually\" id=\"sk-estimator-id-3\" type=\"checkbox\" ><label for=\"sk-estimator-id-3\" class=\"sk-toggleable__label sk-toggleable__label-arrow\">ekstraksi_fitur: ColumnTransformer</label><div class=\"sk-toggleable__content\"><pre>ColumnTransformer(transformers=[(&#x27;sepal&#x27;,\n",
       "                                 FunctionTransformer(func=&lt;function ekstrak_sepal at 0x0000020F7C0F30D0&gt;),\n",
       "                                 [&#x27;sepal_length&#x27;, &#x27;sepal_width&#x27;]),\n",
       "                                (&#x27;petal&#x27;,\n",
       "                                 FunctionTransformer(func=&lt;function ekstrak_petal at 0x0000020F7C0F35E0&gt;),\n",
       "                                 [&#x27;petal_length&#x27;, &#x27;petal_width&#x27;])])</pre></div></div></div><div class=\"sk-parallel\"><div class=\"sk-parallel-item\"><div class=\"sk-item\"><div class=\"sk-label-container\"><div class=\"sk-label sk-toggleable\"><input class=\"sk-toggleable__control sk-hidden--visually\" id=\"sk-estimator-id-4\" type=\"checkbox\" ><label for=\"sk-estimator-id-4\" class=\"sk-toggleable__label sk-toggleable__label-arrow\">sepal</label><div class=\"sk-toggleable__content\"><pre>[&#x27;sepal_length&#x27;, &#x27;sepal_width&#x27;]</pre></div></div></div><div class=\"sk-serial\"><div class=\"sk-item\"><div class=\"sk-estimator sk-toggleable\"><input class=\"sk-toggleable__control sk-hidden--visually\" id=\"sk-estimator-id-5\" type=\"checkbox\" ><label for=\"sk-estimator-id-5\" class=\"sk-toggleable__label sk-toggleable__label-arrow\">FunctionTransformer</label><div class=\"sk-toggleable__content\"><pre>FunctionTransformer(func=&lt;function ekstrak_sepal at 0x0000020F7C0F30D0&gt;)</pre></div></div></div></div></div></div><div class=\"sk-parallel-item\"><div class=\"sk-item\"><div class=\"sk-label-container\"><div class=\"sk-label sk-toggleable\"><input class=\"sk-toggleable__control sk-hidden--visually\" id=\"sk-estimator-id-6\" type=\"checkbox\" ><label for=\"sk-estimator-id-6\" class=\"sk-toggleable__label sk-toggleable__label-arrow\">petal</label><div class=\"sk-toggleable__content\"><pre>[&#x27;petal_length&#x27;, &#x27;petal_width&#x27;]</pre></div></div></div><div class=\"sk-serial\"><div class=\"sk-item\"><div class=\"sk-estimator sk-toggleable\"><input class=\"sk-toggleable__control sk-hidden--visually\" id=\"sk-estimator-id-7\" type=\"checkbox\" ><label for=\"sk-estimator-id-7\" class=\"sk-toggleable__label sk-toggleable__label-arrow\">FunctionTransformer</label><div class=\"sk-toggleable__content\"><pre>FunctionTransformer(func=&lt;function ekstrak_petal at 0x0000020F7C0F35E0&gt;)</pre></div></div></div></div></div></div></div></div><div class=\"sk-item\"><div class=\"sk-label-container\"><div class=\"sk-label sk-toggleable\"><input class=\"sk-toggleable__control sk-hidden--visually\" id=\"sk-estimator-id-8\" type=\"checkbox\" ><label for=\"sk-estimator-id-8\" class=\"sk-toggleable__label sk-toggleable__label-arrow\">scaler: Pipeline</label><div class=\"sk-toggleable__content\"><pre>Pipeline(steps=[(&#x27;scaler&#x27;, StandardScaler())])</pre></div></div></div><div class=\"sk-serial\"><div class=\"sk-item\"><div class=\"sk-estimator sk-toggleable\"><input class=\"sk-toggleable__control sk-hidden--visually\" id=\"sk-estimator-id-9\" type=\"checkbox\" ><label for=\"sk-estimator-id-9\" class=\"sk-toggleable__label sk-toggleable__label-arrow\">StandardScaler</label><div class=\"sk-toggleable__content\"><pre>StandardScaler()</pre></div></div></div></div></div></div></div><div class=\"sk-item\"><div class=\"sk-estimator sk-toggleable\"><input class=\"sk-toggleable__control sk-hidden--visually\" id=\"sk-estimator-id-10\" type=\"checkbox\" ><label for=\"sk-estimator-id-10\" class=\"sk-toggleable__label sk-toggleable__label-arrow\">DecisionTreeClassifier</label><div class=\"sk-toggleable__content\"><pre>DecisionTreeClassifier()</pre></div></div></div></div></div></div></div>"
      ],
      "text/plain": [
       "Pipeline(steps=[('data_pipeline',\n",
       "                 Pipeline(steps=[('ekstraksi_fitur',\n",
       "                                  ColumnTransformer(transformers=[('sepal',\n",
       "                                                                   FunctionTransformer(func=<function ekstrak_sepal at 0x0000020F7C0F30D0>),\n",
       "                                                                   ['sepal_length',\n",
       "                                                                    'sepal_width']),\n",
       "                                                                  ('petal',\n",
       "                                                                   FunctionTransformer(func=<function ekstrak_petal at 0x0000020F7C0F35E0>),\n",
       "                                                                   ['petal_length',\n",
       "                                                                    'petal_width'])])),\n",
       "                                 ('scaler',\n",
       "                                  Pipeline(steps=[('scaler',\n",
       "                                                   StandardScaler())]))])),\n",
       "                ('classifier', DecisionTreeClassifier())])"
      ]
     },
     "metadata": {},
     "output_type": "display_data"
    },
    {
     "data": {
      "text/plain": [
       "Text(0.5, 0, '%')"
      ]
     },
     "execution_count": 22,
     "metadata": {},
     "output_type": "execute_result"
    },
    {
     "data": {
      "image/png": "[encoded data removed]",
      "text/plain": [
       "<Figure size 640x480 with 1 Axes>"
      ]
     },
     "metadata": {},
     "output_type": "display_data"
    }
   ],
   "source": [
    "# # Untuk cek isi pipeline\n",
    "# display(\n",
    "#   dt_clf[\"data_pipeline\"][\"scaler\"].get_feature_names_out() ,\n",
    "#   dt_clf[\"data_pipeline\"][\"ekstraksi_fitur\"].get_feature_names_out ,\n",
    "#   dt_clf[\"classifier\"].get_params(),\n",
    "#   dt_clf[\"classifier\"].n_features_in_ ,\n",
    "#   dt_clf[\"classifier\"].feature_importances_\n",
    "# )\n",
    "display(dt_clf)\n",
    "plt.style.use(\"ggplot\")\n",
    "plt.barh([\"sepal\", \"petal\"], dt_clf[\"classifier\"].feature_importances_)\n",
    "plt.title(\"Feature Importance\", fontstyle=\"italic\")\n",
    "plt.xlabel(\"%\")"
   ]
  },
  {
   "cell_type": "markdown",
   "metadata": {},
   "source": [
    "# Uji Coba Prediksi"
   ]
  },
  {
   "cell_type": "code",
   "execution_count": 23,
   "metadata": {},
   "outputs": [
    {
     "data": {
      "text/html": [
       "<div>\n",
       "<style scoped>\n",
       "    .dataframe tbody tr th:only-of-type {\n",
       "        vertical-align: middle;\n",
       "    }\n",
       "\n",
       "    .dataframe tbody tr th {\n",
       "        vertical-align: top;\n",
       "    }\n",
       "\n",
       "    .dataframe thead th {\n",
       "        text-align: right;\n",
       "    }\n",
       "</style>\n",
       "<table border=\"1\" class=\"dataframe\">\n",
       "  <thead>\n",
       "    <tr style=\"text-align: right;\">\n",
       "      <th></th>\n",
       "      <th>sepal_length</th>\n",
       "      <th>sepal_width</th>\n",
       "      <th>petal_length</th>\n",
       "      <th>petal_width</th>\n",
       "      <th>class</th>\n",
       "    </tr>\n",
       "  </thead>\n",
       "  <tbody>\n",
       "    <tr>\n",
       "      <th>458</th>\n",
       "      <td>5.5</td>\n",
       "      <td>3.815035</td>\n",
       "      <td>0.4989</td>\n",
       "      <td>1.405123</td>\n",
       "      <td>Iris-setosa</td>\n",
       "    </tr>\n",
       "  </tbody>\n",
       "</table>\n",
       "</div>"
      ],
      "text/plain": [
       "     sepal_length  sepal_width  petal_length  petal_width        class\n",
       "458           5.5     3.815035        0.4989     1.405123  Iris-setosa"
      ]
     },
     "metadata": {},
     "output_type": "display_data"
    },
    {
     "data": {
      "text/plain": [
       "('Iris-setosa', 'Iris-setosa', 'Iris-setosa', 'Iris-setosa')"
      ]
     },
     "execution_count": 23,
     "metadata": {},
     "output_type": "execute_result"
    }
   ],
   "source": [
    "sample = pd.read_csv(\"../data/simulation_data.csv\") # 805, 901, 508\n",
    "random_sample_data = sample.sample(1)\n",
    "random_sample_fitur = random_sample_data.drop(\"class\", axis=1)\n",
    "display(random_sample_data)\n",
    "\n",
    "sample_prediction_rf = le.inverse_transform(dt_clf.predict(random_sample_fitur))[0]\n",
    "sample_prediction_svm = # YOUR CODE HERE\n",
    "\n",
    "input_nn = {name: tf.convert_to_tensor([value]) for name, value in random_sample_fitur.items()}\n",
    "sample_prediction_nn = le.inverse_transform(np.argmax(nn_clf.predict(input_nn, verbose=0)).reshape(-1))[0]\n",
    "\n",
    "# menampilkan hasil prediksi\n",
    "sample_prediction_rf, sample_prediction_svm, sample_prediction_nn, random_sample_data[\"class\"].values[0]"
   ]
  },
  {
   "cell_type": "markdown",
   "metadata": {},
   "source": [
    "# Simpan Model & Data _Training_"
   ]
  },
  {
   "cell_type": "code",
   "execution_count": 24,
   "metadata": {},
   "outputs": [],
   "source": [
    "# base directory untuk model\n",
    "base_dir = '../utilities/'\n",
    "\n",
    "# menyimpan objek label encoder\n",
    "with open(f\"{base_dir}label_encoder.bin\", \"wb\") as f:\n",
    "    pickle.dump(le, f, protocol=pickle.HIGHEST_PROTOCOL)\n",
    "\n",
    "# menyimpan pipeline dengan model decision tree classifier\n",
    "with open(f\"{base_dir}sklearn_dt_pipeline.bin\", \"wb\") as f:\n",
    "    pickle.dump( # YOUR CODE HERE\n",
    "\n",
    "# menyimpan tensorflow pipeline\n",
    "nn_clf.save(f\"{base_dir}tf_pipeline.h5\")\n",
    "\n",
    "# menyimpan data train\n",
    "trained_data = X_train.copy()\n",
    "trained_data[\"label\"] = y_train\n",
    "trained_data.to_csv(\"../data/trained_data.csv\", index=False)"
   ]
  }
 ],
 "metadata": {
  "kernelspec": {
   "display_name": ".e2e_ml_env",
   "language": "python",
   "name": "python3"
  },
  "language_info": {
   "codemirror_mode": {
    "name": "ipython",
    "version": 3
   },
   "file_extension": ".py",
   "mimetype": "text/x-python",
   "name": "python",
   "nbconvert_exporter": "python",
   "pygments_lexer": "ipython3",
   "version": "3.9.2"
  }
 },
 "nbformat": 4,
 "nbformat_minor": 2
}
